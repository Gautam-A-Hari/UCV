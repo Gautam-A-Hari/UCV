{
 "cells": [
  {
   "cell_type": "code",
   "execution_count": 48,
   "metadata": {},
   "outputs": [],
   "source": [
    "from matplotlib import colors, cm\n",
    "import matplotlib.pyplot as plt\n",
    "import scipy.io\n",
    "import itertools\n",
    "from skimage import io, filters, morphology, restoration, feature, transform\n",
    "from matplotlib.collections import LineCollection\n",
    "from mpl_toolkits.mplot3d import Axes3D\n",
    "import seaborn as sns\n",
    "from itertools import cycle\n",
    "import sklearn.cluster\n",
    "from sklearn.preprocessing import MinMaxScaler\n",
    "import skimage.segmentation as seg\n",
    "import scipy as sc\n",
    "\n",
    "import numpy as np\n",
    "import math\n",
    "import numpy.ma as ma\n",
    "\n",
    "#import nglpy_cuda as ngl\n",
    "import nglpy as ngl\n",
    "import topopy\n",
    "#import pdir\n",
    "import time\n",
    "import os\n",
    "import utpy.utils\n",
    "import utpy.vis\n",
    "import flatpy\n",
    "from functools import partial\n",
    "from itertools import cycle\n",
    "from evtk.hl import imageToVTK\n",
    "import random\n",
    "import time\n",
    "from time import process_time\n",
    "from numpy import linalg as LA\n",
    "\n",
    "import vtk\n",
    "from vtk.util import numpy_support\n",
    "import os\n",
    "import sys"
   ]
  },
  {
   "cell_type": "code",
   "execution_count": 49,
   "metadata": {},
   "outputs": [],
   "source": [
    "def readDS(fname) :\n",
    "    reader = vtk.vtkDataSetReader()\n",
    "    reader.SetFileName(fname)\n",
    "    reader.ReadAllVectorsOn()\n",
    "    reader.ReadAllScalarsOn()\n",
    "    reader.Update()\n",
    "    ds = reader.GetOutput()\n",
    "    return ds"
   ]
  },
  {
   "cell_type": "code",
   "execution_count": 51,
   "metadata": {},
   "outputs": [
    {
     "name": "stdout",
     "output_type": "stream",
     "text": [
      "(496, 832, 832)\n"
     ]
    }
   ],
   "source": [
    "filename = \"beetle_496_832_832.vtk\"\n",
    "fieldarray= \"ground_truth\"\n",
    "ds = readDS(filename)\n",
    "#print(ds)\n",
    "\n",
    "#get vtkarray\n",
    "point_array = ds.GetPointData().GetArray(fieldarray)\n",
    "#print(point_array)\n",
    "\n",
    "#get numpy array\n",
    "nparray = numpy_support.vtk_to_numpy(point_array)\n",
    "ground_truth = nparray.reshape((496,832,832))\n",
    "\n",
    "print(ground_truth.shape)"
   ]
  },
  {
   "cell_type": "code",
   "execution_count": 2,
   "metadata": {},
   "outputs": [
    {
     "name": "stdout",
     "output_type": "stream",
     "text": [
      "341958659\n"
     ]
    }
   ],
   "source": [
    "## Load ground truth\n",
    "#myarray = np.fromfile('stagbeetle832x832x494.dat', dtype='H')\n",
    "\n",
    "#print(len(myarray))\n",
    "\n",
    "#newarray = myarray[3: len(myarray)]\n",
    "\n",
    "#ground_truth = newarray.reshape((494, 832, 832))\n",
    "\n",
    "##newarray.astype('H').tofile('beetle832x832x484.raw')\n",
    "\n",
    "##print(832*832*494)\n"
   ]
  },
  {
   "cell_type": "code",
   "execution_count": 52,
   "metadata": {},
   "outputs": [],
   "source": [
    "# Preprare ensemble from the ground truth\n",
    "\n",
    "ensemble = np.zeros((124,208,208,64),dtype='H')\n",
    "\n",
    "for i in range(0,496,4):\n",
    "    for j in range(0,832,4):\n",
    "        for k in range(0,832,4):\n",
    "            \n",
    "            l = int(i/4)\n",
    "            m = int(j/4)\n",
    "            n = int(k/4)\n",
    "            \n",
    "            count = 0\n",
    "            for n1 in range(4):\n",
    "                for n2 in range(4):\n",
    "                    for n3 in range(4):\n",
    "                        ensemble[l,m,n,count] = ground_truth[i+n1,j+n2,k+n3]\n",
    "                        count += 1\n",
    "            \n"
   ]
  },
  {
   "cell_type": "code",
   "execution_count": 4,
   "metadata": {},
   "outputs": [],
   "source": [
    "# Compute the probabillity of values being less than the isovalue and greater than the isovalue at each grid vertex\n",
    "def computePositiveNegativeProbabilities(ensemble, isovalue, confidence, distributionModel):\n",
    "    h, w, d, numMembers = ensemble.shape\n",
    "    minimumGrid = np.zeros((h,w,d))\n",
    "    maximumGrid = np.zeros((h,w,d))\n",
    "    meanGrid = np.zeros((h,w,d))\n",
    "    mostProbableGrid = np.zeros((h,w,d))\n",
    "    \n",
    "    meanGaussian = np.zeros((h,w,d))\n",
    "    stdGaussian = np.zeros((h,w,d))\n",
    "    for i in range(h):\n",
    "        for j in range(w):\n",
    "            for k in range(d):\n",
    "                minimum = math.inf\n",
    "                maximum = -math.inf\n",
    "                t = np.array([])\n",
    "                for idx in range(numMembers):\n",
    "                    t = np.append(t, [ensemble[i,j,k,idx]])\n",
    "                    if(ensemble[i,j,k,idx] < minimum):\n",
    "                        minimum = ensemble[i,j,k,idx]\n",
    "                    if(ensemble[i,j,k,idx] > maximum):\n",
    "                        maximum = ensemble[i,j,k,idx]    \n",
    "                tMean = np.mean(t,0)\n",
    "                tVar = np.var(t,0)\n",
    "                tStd = math.sqrt(tVar)\n",
    "            \n",
    "                #Uniform\n",
    "                minimumGrid[i,j,k] = minimum\n",
    "                maximumGrid[i,j,k] = maximum   \n",
    "            \n",
    "                #Gaussian\n",
    "                meanGaussian[i,j,k] = tMean\n",
    "                stdGaussian[i,j,k] = tStd\n",
    "            \n",
    "    # Compute probabilitis based of confidence value (between 0 and 100)\n",
    "    for i in range(h):\n",
    "        for j in range(w):\n",
    "            for k in range(d):\n",
    "            \n",
    "                minimum=minimumGrid[i,j,k]\n",
    "                maximum=maximumGrid[i,j,k]\n",
    "            \n",
    "                minimumGrid[i,j,k]=minimum\n",
    "                maximumGrid[i,j,k]=maximum\n",
    "            \n",
    "                meanVal = (maximum + minimum)/2\n",
    "            \n",
    "                confidenceFraction = 0.01*confidence*(meanVal - minimum)\n",
    "            \n",
    "                newMinimum = meanVal - confidenceFraction\n",
    "                newMaximum = meanVal + confidenceFraction\n",
    "            \n",
    "                # Revise minimum and maximum grids based on confidence information\n",
    "                minimumGrid[i,j,k]=newMinimum\n",
    "                maximumGrid[i,j,k]=newMaximum\n",
    "                meanGrid[i,j,k] = (newMinimum + newMaximum)/2\n",
    "    \n",
    "                #plt.figure()\n",
    "                #plt.imshow(minimumGrid)\n",
    "                #plt.contour(minimumGrid, levels=[isovalue])\n",
    "    \n",
    "                #plt.figure()\n",
    "                #plt.imshow(maximumGrid)\n",
    "                #plt.contour(maximumGrid, levels=[isovalue])\n",
    "    \n",
    "    # Compute negative and positive probabilities\n",
    "    # Pr(value <= isovalue)\n",
    "    negativeProbabilitiesGrid = np.zeros((h,w,d))\n",
    "    # Pr(value > isovalue)\n",
    "    positiveProbabilitiesGrid = np.zeros((h,w,d))\n",
    "    for i in range(h):\n",
    "        for j in range(w):\n",
    "            for k in range(d):\n",
    "                minimum = minimumGrid[i,j,k]\n",
    "                maximum = maximumGrid[i,j,k]\n",
    "                meanVal = meanGrid[i,j,k]\n",
    "                if (isovalue <= minimum):\n",
    "                    positiveProbabilitiesGrid[i,j,k] = 1.0\n",
    "                    negativeProbabilitiesGrid[i,j,k] = 0.0\n",
    "                elif (isovalue >= maximum):    \n",
    "                    positiveProbabilitiesGrid[i,j,k] = 0.0\n",
    "                    negativeProbabilitiesGrid[i,j,k] = 1.0\n",
    "                else:\n",
    "                    if distributionModel == 'uniform':\n",
    "                        positiveProbabilitiesGrid[i,j,k] = (maximum - isovalue)/(maximum - minimum)\n",
    "                        negativeProbabilitiesGrid[i,j,k] = 1.0 - positiveProbabilitiesGrid[i,j,k]\n",
    "                    elif distributionModel == 'Gaussian':\n",
    "                        tempMean = meanGaussian[i,j,k]\n",
    "                        tempStd = stdGaussian[i,j,k]\n",
    "                        negativeProbabilitiesGrid[i,j,k] = 0.5*(1 + math.erf((isovalue - tempMean)/(math.sqrt(2)*tempStd)))\n",
    "                        positiveProbabilitiesGrid[i,j,k] = 1.0 - negativeProbabilitiesGrid[i,j,k]\n",
    "                    else:\n",
    "                        print('No valid model')\n",
    "            \n",
    "                # Compute most probable grid\n",
    "                if(positiveProbabilitiesGrid[i,j,k] > negativeProbabilitiesGrid[i,j,k]):\n",
    "                    mostProbableGrid[i,j,k] = (meanVal + maximum)/2\n",
    "                else:\n",
    "                    mostProbableGrid[i,j,k] = (minimum + meanVal)/2  \n",
    "            \n",
    "    return positiveProbabilitiesGrid, negativeProbabilitiesGrid, maximumGrid, minimumGrid, mostProbableGrid"
   ]
  },
  {
   "cell_type": "code",
   "execution_count": 5,
   "metadata": {},
   "outputs": [],
   "source": [
    "def computeMSTopologyCasesProbabilities(positiveProbabilitiesGrid, negativeProbabilitiesGrid):\n",
    "    h, w, d = positiveProbabilitiesGrid.shape\n",
    "    MStopologyCasesProbabilities = np.zeros((h-1,w-1,d-1, 256))\n",
    "    # Record number of cases per cell as well\n",
    "    numCases = np.zeros((h-1,w-1,d-1))\n",
    "\n",
    "    tempNumCases = 1\n",
    "    for i in range(h-1):\n",
    "        for j in range(w-1):\n",
    "            for k in range(d-1):\n",
    "            \n",
    "                x1Positive = positiveProbabilitiesGrid[i,j,k]\n",
    "                x1Negative = negativeProbabilitiesGrid[i,j,k]\n",
    "                x1Sign = np.array([x1Negative, x1Positive])\n",
    "                if(x1Positive > 0) and (x1Positive < 1):\n",
    "                    tempNumCases = tempNumCases*2\n",
    "            \n",
    "                x2Positive = positiveProbabilitiesGrid[i+1,j,k]\n",
    "                x2Negative = negativeProbabilitiesGrid[i+1,j,k]\n",
    "                x2Sign = np.array([x2Negative, x2Positive])\n",
    "                if(x2Positive > 0) and (x2Positive < 1):\n",
    "                    tempNumCases = tempNumCases*2\n",
    "            \n",
    "                x3Positive = positiveProbabilitiesGrid[i+1,j+1,k]\n",
    "                x3Negative = negativeProbabilitiesGrid[i+1,j+1,k]\n",
    "                x3Sign = np.array([x3Negative, x3Positive])\n",
    "                if(x3Positive > 0) and (x3Positive < 1):\n",
    "                    tempNumCases = tempNumCases*2\n",
    "            \n",
    "                x4Positive = positiveProbabilitiesGrid[i,j+1,k]\n",
    "                x4Negative = negativeProbabilitiesGrid[i,j+1,k]\n",
    "                x4Sign = np.array([x4Negative, x4Positive])\n",
    "                if(x4Positive > 0) and (x4Positive < 1):\n",
    "                    tempNumCases = tempNumCases*2\n",
    "                    \n",
    "                x5Positive = positiveProbabilitiesGrid[i,j,k+1]\n",
    "                x5Negative = negativeProbabilitiesGrid[i,j,k+1]\n",
    "                x5Sign = np.array([x5Negative, x5Positive])\n",
    "                if(x5Positive > 0) and (x5Positive < 1):\n",
    "                    tempNumCases = tempNumCases*2\n",
    "            \n",
    "                x6Positive = positiveProbabilitiesGrid[i+1,j,k+1]\n",
    "                x6Negative = negativeProbabilitiesGrid[i+1,j,k+1]\n",
    "                x6Sign = np.array([x6Negative, x6Positive])\n",
    "                if(x6Positive > 0) and (x6Positive < 1):\n",
    "                    tempNumCases = tempNumCases*2\n",
    "            \n",
    "                x7Positive = positiveProbabilitiesGrid[i+1,j+1,k+1]\n",
    "                x7Negative = negativeProbabilitiesGrid[i+1,j+1,k+1]\n",
    "                x7Sign = np.array([x7Negative, x7Positive])\n",
    "                if(x7Positive > 0) and (x7Positive < 1):\n",
    "                    tempNumCases = tempNumCases*2\n",
    "            \n",
    "                x8Positive = positiveProbabilitiesGrid[i,j+1,k+1]\n",
    "                x8Negative = negativeProbabilitiesGrid[i,j+1,k+1]\n",
    "                x8Sign = np.array([x8Negative, x8Positive])\n",
    "                if(x8Positive > 0) and (x8Positive < 1):\n",
    "                    tempNumCases = tempNumCases*2\n",
    "                \n",
    "                numCases[i,j,k] = tempNumCases\n",
    "                # Reset tempNumCases for next iteration\n",
    "                tempNumCases = 1\n",
    "                \n",
    "                count = 0\n",
    "                for s1 in range(2):\n",
    "                    for s2 in range(2):\n",
    "                        for s3 in range(2):\n",
    "                            for s4 in range(2):\n",
    "                                for s5 in range(2):\n",
    "                                    for s6 in range(2):\n",
    "                                        for s7 in range(2):\n",
    "                                            for s8 in range(2):\n",
    "                                                MStopologyCasesProbabilities[i,j,k,count] = x1Sign[s1]*x2Sign[s2]*x3Sign[s3]*x4Sign[s4]*x5Sign[s5]*x6Sign[s6]*x7Sign[s7]*x8Sign[s8]\n",
    "                                                count+=1\n",
    "              \n",
    "            \n",
    "    # Compute entropy of probability distribution\n",
    "    entropy = np.zeros((h-1,w-1,d-1))\n",
    "        \n",
    "    #for i in range(256):\n",
    "        \n",
    "    #    probs = MStopologyCasesProbabilities[:,:,:,i]\n",
    "    #    res = ma.log2(probs);\n",
    "    #    entropy += np.multiply(-probs,res)\n",
    "        \n",
    "        \n",
    "    for i in range(h-1):\n",
    "        for j in range(w-1):\n",
    "            for k in range(d-1):\n",
    "                entropyValue = 0\n",
    "                res = 0\n",
    "                for num in range(256):\n",
    "                    probs = MStopologyCasesProbabilities[i,j,k,num]\n",
    "                    if probs > 0:\n",
    "                        res = ma.log2(probs)\n",
    "                    entropyValue += np.multiply(-probs,res)    \n",
    "                entropy[i,j,k] = entropyValue\n",
    "        \n",
    "    return MStopologyCasesProbabilities, entropy, numCases"
   ]
  },
  {
   "cell_type": "code",
   "execution_count": 6,
   "metadata": {},
   "outputs": [],
   "source": [
    "def probabilisticMarchingSquares(positiveProbabilitiesGrid, negativeProbabilitiesGrid):\n",
    "    \n",
    "    h, w, d = positiveProbabilitiesGrid.shape\n",
    "    # Record number of cases per cell as well\n",
    "    crossingProbabilities = np.zeros((h-1,w-1,d-1))\n",
    "    for i in range(h-1):\n",
    "        for j in range(w-1):\n",
    "            for k in range(d-1):\n",
    "                nonCrossingProbability1 = positiveProbabilitiesGrid[i,j,k]*positiveProbabilitiesGrid[i+1,j,k]*positiveProbabilitiesGrid[i,j+1,k]*positiveProbabilitiesGrid[i+1,j+1,k]*positiveProbabilitiesGrid[i,j,k+1]*positiveProbabilitiesGrid[i+1,j,k+1]*positiveProbabilitiesGrid[i,j+1,k+1]*positiveProbabilitiesGrid[i+1,j+1,k+1]\n",
    "                nonCrossingProbability2 = negativeProbabilitiesGrid[i,j,k]*negativeProbabilitiesGrid[i+1,j,k]*negativeProbabilitiesGrid[i,j+1,k]*negativeProbabilitiesGrid[i+1,j+1,k]*negativeProbabilitiesGrid[i,j,k+1]*negativeProbabilitiesGrid[i+1,j,k+1]*negativeProbabilitiesGrid[i,j+1,k+1]*negativeProbabilitiesGrid[i+1,j+1,k+1]\n",
    "                nonCrossingProbability = nonCrossingProbability1 + nonCrossingProbability2\n",
    "                crossingProbability = 1.0 - nonCrossingProbability\n",
    "                crossingProbabilities[i,j,k] = crossingProbability\n",
    "    return crossingProbabilities"
   ]
  },
  {
   "cell_type": "code",
   "execution_count": 7,
   "metadata": {},
   "outputs": [],
   "source": [
    "def getIndependentModelProb(meanArray, covMatrix, isovalue):\n",
    "    \n",
    "        m1 = meanArray[0]\n",
    "        m2 = meanArray[1]\n",
    "        m3 = meanArray[2]\n",
    "        m4 = meanArray[3]\n",
    "        m5 = meanArray[4]\n",
    "        m6 = meanArray[5]\n",
    "        m7 = meanArray[6]\n",
    "        m8 = meanArray[7]\n",
    "        \n",
    "        std1 = np.sqrt(covMatrix[0,0])\n",
    "        std2 = np.sqrt(covMatrix[1,1])\n",
    "        std3 = np.sqrt(covMatrix[2,2])\n",
    "        std4 = np.sqrt(covMatrix[3,3])\n",
    "        std5 = np.sqrt(covMatrix[4,4])\n",
    "        std6 = np.sqrt(covMatrix[5,5])\n",
    "        std7 = np.sqrt(covMatrix[6,6])\n",
    "        std8 = np.sqrt(covMatrix[7,7])\n",
    "        \n",
    "        negProb1 = 0.5*(1 + math.erf((isovalue - m1)/(math.sqrt(2)*std1)))\n",
    "        negProb2 = 0.5*(1 + math.erf((isovalue - m2)/(math.sqrt(2)*std2)))\n",
    "        negProb3 = 0.5*(1 + math.erf((isovalue - m3)/(math.sqrt(2)*std3)))\n",
    "        negProb4 = 0.5*(1 + math.erf((isovalue - m4)/(math.sqrt(2)*std4)))\n",
    "        negProb5 = 0.5*(1 + math.erf((isovalue - m5)/(math.sqrt(2)*std5)))\n",
    "        negProb6 = 0.5*(1 + math.erf((isovalue - m6)/(math.sqrt(2)*std6)))\n",
    "        negProb7 = 0.5*(1 + math.erf((isovalue - m7)/(math.sqrt(2)*std7)))\n",
    "        negProb8 = 0.5*(1 + math.erf((isovalue - m8)/(math.sqrt(2)*std8)))\n",
    "        \n",
    "        posProb1 = 1 - negProb1\n",
    "        posProb2 = 1 - negProb2\n",
    "        posProb3 = 1 - negProb3\n",
    "        posProb4 = 1 - negProb4\n",
    "        posProb5 = 1 - negProb5\n",
    "        posProb6 = 1 - negProb6\n",
    "        posProb7 = 1 - negProb7\n",
    "        posProb8 = 1 - negProb8\n",
    "        \n",
    "        allNegativeProb = negProb1*negProb2*negProb3*negProb4*negProb5*negProb6*negProb7*negProb8\n",
    "        allPositiveProb = posProb1*posProb2*posProb3*posProb4*posProb5*posProb6*posProb7*posProb8\n",
    "        \n",
    "        crossingProb = 1 - allNegativeProb -allPositiveProb\n",
    "        \n",
    "        return crossingProb"
   ]
  },
  {
   "cell_type": "code",
   "execution_count": 8,
   "metadata": {},
   "outputs": [],
   "source": [
    "def PearsonAdaptiveCrossingProbWithEigenDecomposition(meanArray, covMatrix, isovalue, numSamples):\n",
    "    \n",
    "    w, v = LA.eig(covMatrix)\n",
    "    \n",
    "    idx = w.argsort()[::-1]   \n",
    "    w = w[idx]\n",
    "    v = v[:,idx]\n",
    "    \n",
    "    #print('eigenvalues:',w)\n",
    "        \n",
    "    indexImpEigenvalue = 0\n",
    "    threshold2 = 0.01\n",
    "        \n",
    "    # search important eigenvalue from end. Not checked for w[3] as it would have use independent model if\n",
    "    # w[3] > 0.2*w[0]\n",
    "        \n",
    "    if (w[7] > threshold2*w[0]):\n",
    "        indexImpEigenvalue = 7\n",
    "        \n",
    "    elif (w[6] > threshold2*w[0]):\n",
    "        indexImpEigenvalue = 6\n",
    "            \n",
    "    elif (w[5] > threshold2*w[0]):\n",
    "        indexImpEigenvalue = 5\n",
    "            \n",
    "    elif (w[4] > threshold2*w[0]):\n",
    "        indexImpEigenvalue = 4\n",
    "            \n",
    "    elif (w[3] > threshold2*w[0]):\n",
    "        indexImpEigenvalue = 3\n",
    "        \n",
    "    elif (w[2] > threshold2*w[0]):\n",
    "        indexImpEigenvalue = 2\n",
    "        \n",
    "    elif (w[1] > threshold2*w[0]):\n",
    "        indexImpEigenvalue = 1\n",
    "            \n",
    "        \n",
    "    # Transformed isovalue\n",
    "    transformedIso1 = (isovalue-meanArray[0]) \n",
    "    transformedIso2 = (isovalue-meanArray[1])    \n",
    "    transformedIso3 = (isovalue-meanArray[2]) \n",
    "    transformedIso4 = (isovalue-meanArray[3])\n",
    "    transformedIso5 = (isovalue-meanArray[4]) \n",
    "    transformedIso6 = (isovalue-meanArray[5])    \n",
    "    transformedIso7 = (isovalue-meanArray[6]) \n",
    "    transformedIso8 = (isovalue-meanArray[7]) \n",
    "    \n",
    "    xTest = np.zeros((numSamples))\n",
    "    yTest = np.zeros((numSamples))\n",
    "    zTest = np.zeros((numSamples))\n",
    "    wTest = np.zeros((numSamples))\n",
    "    aTest = np.zeros((numSamples))\n",
    "    bTest = np.zeros((numSamples))\n",
    "    cTest = np.zeros((numSamples))\n",
    "    dTest = np.zeros((numSamples))\n",
    "    \n",
    "    for i in range(indexImpEigenvalue+1):\n",
    "\n",
    "        temp = np.random.normal(0, math.sqrt(w[i]), numSamples).T\n",
    "        \n",
    "        \n",
    "        xTest = xTest + v[0][i]*temp\n",
    "        yTest = yTest + v[1][i]*temp\n",
    "        zTest = zTest + v[2][i]*temp\n",
    "        wTest = wTest + v[3][i]*temp\n",
    "        aTest = aTest + v[4][i]*temp\n",
    "        bTest = bTest + v[5][i]*temp\n",
    "        cTest = cTest + v[6][i]*temp\n",
    "        dTest = dTest + v[7][i]*temp\n",
    "\n",
    "            \n",
    "    numNegativeNonCrossing = 0\n",
    "    for i in range(numSamples):\n",
    "        if ((xTest[i]<=transformedIso1) and (yTest[i]<=transformedIso2) and (zTest[i]<=transformedIso3) and (wTest[i]<=transformedIso4) and (aTest[i]<=transformedIso5) and (bTest[i]<=transformedIso6) and (cTest[i]<=transformedIso7) and (dTest[i]<=transformedIso8)):\n",
    "            numNegativeNonCrossing = numNegativeNonCrossing + 1\n",
    "        \n",
    "    numPositiveNonCrossing = 0\n",
    "    for i in range(numSamples):\n",
    "        if ((xTest[i]>=transformedIso1) and (yTest[i]>=transformedIso2) and (zTest[i]>=transformedIso3) and (wTest[i]>=transformedIso4) and (aTest[i]>=transformedIso5) and (bTest[i]>=transformedIso6) and (cTest[i]>=transformedIso7) and (dTest[i]>=transformedIso8)):\n",
    "            numPositiveNonCrossing = numPositiveNonCrossing + 1\n",
    "    \n",
    "    crossingProb = 1.0 - (numNegativeNonCrossing/numSamples) - (numPositiveNonCrossing/numSamples)\n",
    "    \n",
    "    return crossingProb"
   ]
  },
  {
   "cell_type": "code",
   "execution_count": null,
   "metadata": {},
   "outputs": [],
   "source": []
  },
  {
   "cell_type": "code",
   "execution_count": 39,
   "metadata": {},
   "outputs": [],
   "source": [
    "def adaptiveCrossingProbWithEigenDecomposition(meanArray, covMatrix, isovalue, numSamples):\n",
    "    \n",
    "    w, v = LA.eig(covMatrix)\n",
    "    \n",
    "    idx = w.argsort()[::-1]   \n",
    "    w = w[idx]\n",
    "    v = v[:,idx]\n",
    "    \n",
    "    #print('eigenvalues:',w)\n",
    "    indexImpEigenvalue = 0\n",
    "    threshold2 = 0\n",
    "        \n",
    "    # search important eigenvalue from end. Not checked for w[3] as it would have use independent model if\n",
    "    # w[3] > 0.2*w[0]\n",
    "        \n",
    "    if (w[7] > threshold2*w[0]):\n",
    "        indexImpEigenvalue = 7\n",
    "        \n",
    "    elif (w[6] > threshold2*w[0]):\n",
    "        indexImpEigenvalue = 6\n",
    "            \n",
    "    elif (w[5] > threshold2*w[0]):\n",
    "        indexImpEigenvalue = 5\n",
    "            \n",
    "    elif (w[4] > threshold2*w[0]):\n",
    "        indexImpEigenvalue = 4\n",
    "            \n",
    "    elif (w[3] > threshold2*w[0]):\n",
    "        indexImpEigenvalue = 3\n",
    "        \n",
    "    elif (w[2] > threshold2*w[0]):\n",
    "        indexImpEigenvalue = 2\n",
    "        \n",
    "    elif (w[1] > threshold2*w[0]):\n",
    "        indexImpEigenvalue = 1\n",
    "            \n",
    "        \n",
    "    # Transformed isovalue\n",
    "    transformedIso1 = (isovalue-meanArray[0]) \n",
    "    transformedIso2 = (isovalue-meanArray[1])    \n",
    "    transformedIso3 = (isovalue-meanArray[2]) \n",
    "    transformedIso4 = (isovalue-meanArray[3])\n",
    "    transformedIso5 = (isovalue-meanArray[4]) \n",
    "    transformedIso6 = (isovalue-meanArray[5])    \n",
    "    transformedIso7 = (isovalue-meanArray[6]) \n",
    "    transformedIso8 = (isovalue-meanArray[7]) \n",
    "    \n",
    "    xTest = np.zeros((numSamples))\n",
    "    yTest = np.zeros((numSamples))\n",
    "    zTest = np.zeros((numSamples))\n",
    "    wTest = np.zeros((numSamples))\n",
    "    aTest = np.zeros((numSamples))\n",
    "    bTest = np.zeros((numSamples))\n",
    "    cTest = np.zeros((numSamples))\n",
    "    dTest = np.zeros((numSamples))\n",
    "    \n",
    "    for i in range(indexImpEigenvalue+1):\n",
    "\n",
    "        temp = np.random.normal(0, math.sqrt(w[i]), numSamples).T\n",
    "        \n",
    "        \n",
    "        xTest = xTest + v[0][i]*temp\n",
    "        yTest = yTest + v[1][i]*temp\n",
    "        zTest = zTest + v[2][i]*temp\n",
    "        wTest = wTest + v[3][i]*temp\n",
    "        aTest = aTest + v[4][i]*temp\n",
    "        bTest = bTest + v[5][i]*temp\n",
    "        cTest = cTest + v[6][i]*temp\n",
    "        dTest = dTest + v[7][i]*temp\n",
    "\n",
    "            \n",
    "    numNegativeNonCrossing = 0\n",
    "    for i in range(numSamples):\n",
    "        if ((xTest[i]<=transformedIso1) and (yTest[i]<=transformedIso2) and (zTest[i]<=transformedIso3) and (wTest[i]<=transformedIso4) and (aTest[i]<=transformedIso5) and (bTest[i]<=transformedIso6) and (cTest[i]<=transformedIso7) and (dTest[i]<=transformedIso8)):\n",
    "            numNegativeNonCrossing = numNegativeNonCrossing + 1\n",
    "        \n",
    "    numPositiveNonCrossing = 0\n",
    "    for i in range(numSamples):\n",
    "        if ((xTest[i]>=transformedIso1) and (yTest[i]>=transformedIso2) and (zTest[i]>=transformedIso3) and (wTest[i]>=transformedIso4) and (aTest[i]>=transformedIso5) and (bTest[i]>=transformedIso6) and (cTest[i]>=transformedIso7) and (dTest[i]>=transformedIso8)):\n",
    "            numPositiveNonCrossing = numPositiveNonCrossing + 1\n",
    "    \n",
    "    crossingProb = 1.0 - (numNegativeNonCrossing/numSamples) - (numPositiveNonCrossing/numSamples)\n",
    "    \n",
    "    return crossingProb"
   ]
  },
  {
   "cell_type": "code",
   "execution_count": 10,
   "metadata": {},
   "outputs": [],
   "source": [
    "def getCrossingProbWithEigenDecomposition(meanArray, covMatrix, isovalue, numSamples):\n",
    "    \n",
    "    w, v = LA.eig(covMatrix)\n",
    "    \n",
    "    idx = w.argsort()[::-1]   \n",
    "    w = w[idx]\n",
    "    v = v[:,idx]\n",
    "    \n",
    "    #print('eigenvalues:',w)\n",
    "\n",
    "    # Transformed isovalue\n",
    "    transformedIso1 = (isovalue-meanArray[0]) \n",
    "    transformedIso2 = (isovalue-meanArray[1])    \n",
    "    transformedIso3 = (isovalue-meanArray[2]) \n",
    "    transformedIso4 = (isovalue-meanArray[3])  \n",
    "    transformedIso5 = (isovalue-meanArray[4]) \n",
    "    transformedIso6 = (isovalue-meanArray[5])    \n",
    "    transformedIso7 = (isovalue-meanArray[6]) \n",
    "    transformedIso8 = (isovalue-meanArray[7])  \n",
    "    \n",
    "    #numSamples = 500\n",
    "    \n",
    "    # Find index until which eigenvalue is greater than 200\n",
    "    k=1\n",
    "    #for k in range(8):\n",
    "    #    if(w[k]<10000):\n",
    "    #        break\n",
    "   \n",
    "    #if (k > 0):\n",
    "    #    numSamples = k*64\n",
    "    #else:\n",
    "    #    numSamples = 64\n",
    "\n",
    "    xTest = np.zeros((numSamples))\n",
    "    yTest = np.zeros((numSamples))\n",
    "    zTest = np.zeros((numSamples))\n",
    "    wTest = np.zeros((numSamples))\n",
    "    aTest = np.zeros((numSamples))\n",
    "    bTest = np.zeros((numSamples))\n",
    "    cTest = np.zeros((numSamples))\n",
    "    dTest = np.zeros((numSamples))\n",
    "    \n",
    "    #print(xTest.shape)\n",
    "    \n",
    "    #xD = np.random.normal(0, math.sqrt(w[0]), numSamples).T\n",
    "    \n",
    "    #print(xD.shape)\n",
    "    \n",
    "    for i in range(k):\n",
    "\n",
    "        temp = np.random.normal(0, math.sqrt(w[i]), numSamples).T\n",
    "        \n",
    "        \n",
    "        xTest = xTest + v[0][i]*temp\n",
    "        yTest = yTest + v[1][i]*temp\n",
    "        zTest = zTest + v[2][i]*temp\n",
    "        wTest = wTest + v[3][i]*temp\n",
    "        aTest = aTest + v[4][i]*temp\n",
    "        bTest = bTest + v[5][i]*temp\n",
    "        cTest = cTest + v[6][i]*temp\n",
    "        dTest = dTest + v[7][i]*temp\n",
    "        \n",
    "        \n",
    "        \n",
    "    #xD = np.random.normal(0, math.sqrt(w[0]), numSamples).T\n",
    "    #yD = np.random.normal(0, math.sqrt(w[1]), numSamples).T\n",
    "    #zD = np.random.normal(0, math.sqrt(w[2]), numSamples).T\n",
    "    #wD = np.random.normal(0, math.sqrt(w[3]), numSamples).T\n",
    "\n",
    "    #xTest = v[0][0]*xD + v[0][1]*yD\n",
    "    #yTest = v[1][0]*xD + v[1][1]*yD\n",
    "    #zTest = v[2][0]*xD + v[2][1]*yD\n",
    "    #wTest = v[3][0]*xD + v[3][1]*yD\n",
    "    #aTest = v[4][0]*xD + v[4][1]*yD\n",
    "    #bTest = v[5][0]*xD + v[5][1]*yD\n",
    "    #cTest = v[6][0]*xD + v[6][1]*yD\n",
    "    #dTest = v[7][0]*xD + v[7][1]*yD\n",
    "    \n",
    "    \n",
    "   # xTest = v[0][0]*xD \n",
    "   # yTest = v[1][0]*xD \n",
    "   # zTest = v[2][0]*xD \n",
    "   # wTest = v[3][0]*xD \n",
    "   # aTest = v[4][0]*xD \n",
    "   # bTest = v[5][0]*xD \n",
    "   # cTest = v[6][0]*xD \n",
    "   # dTest = v[7][0]*xD \n",
    "\n",
    "    numNegativeNonCrossing = 0\n",
    "    for i in range(numSamples):\n",
    "        if ((xTest[i]<=transformedIso1) and (yTest[i]<=transformedIso2) and (zTest[i]<=transformedIso3) and (wTest[i]<=transformedIso4) and (aTest[i]<=transformedIso5) and (bTest[i]<=transformedIso6) and (cTest[i]<=transformedIso7) and (dTest[i]<=transformedIso8)):\n",
    "            numNegativeNonCrossing = numNegativeNonCrossing + 1\n",
    "        \n",
    "    numPositiveNonCrossing = 0\n",
    "    for i in range(numSamples):\n",
    "        if ((xTest[i]>=transformedIso1) and (yTest[i]>=transformedIso2) and (zTest[i]>=transformedIso3) and (wTest[i]>=transformedIso4) and (aTest[i]>=transformedIso5) and (bTest[i]>=transformedIso6) and (cTest[i]>=transformedIso7) and (dTest[i]>=transformedIso8)):\n",
    "            numPositiveNonCrossing = numPositiveNonCrossing + 1\n",
    "    \n",
    "    #q1 = (v[0][0]**2)*abs(w[0]) + (v[0][1]**2)*abs(w[1]) + (v[0][2]**2)*abs(w[2]) + (v[0][3]**2)*abs(w[3])\n",
    "    #std1 = math.sqrt(q1)\n",
    "\n",
    "    #q2 = (v[1][0]**2)*abs(w[0]) + (v[1][1]**2)*abs(w[1]) + (v[1][2]**2)*abs(w[2]) + (v[1][3]**2)*abs(w[3])\n",
    "    #std2 = math.sqrt(q2)\n",
    "    \n",
    "    #q3 = (v[2][0]**2)*abs(w[0]) + (v[2][1]**2)*abs(w[1]) + (v[2][2]**2)*abs(w[2]) + (v[2][3]**2)*abs(w[3])\n",
    "    #std3 = math.sqrt(q3)\n",
    "    \n",
    "    #q4 = (v[3][0]**2)*abs(w[0]) + (v[3][1]**2)*abs(w[1]) + (v[3][2]**2)*abs(w[2]) + (v[3][3]**2)*abs(w[3])\n",
    "    #std4 = math.sqrt(q4)\n",
    "    \n",
    "    #negativeProbm1 = 0.5*(1 + math.erf((transformedIso1 - 0)/(math.sqrt(2)*std1)))\n",
    "    #negativeProbm2 = 0.5*(1 + math.erf((transformedIso2 - 0)/(math.sqrt(2)*std2)))\n",
    "    #negativeProbm3 = 0.5*(1 + math.erf((transformedIso3 - 0)/(math.sqrt(2)*std3)))\n",
    "    #negativeProbm4 = 0.5*(1 + math.erf((transformedIso4 - 0)/(math.sqrt(2)*std4)))\n",
    "    \n",
    "    #positiveProbm1 = 1.0 - negativeProbm1\n",
    "    #positiveProbm2 = 1.0 - negativeProbm2\n",
    "    #positiveProbm3 = 1.0 - negativeProbm3\n",
    "    #positiveProbm4 = 1.0 - negativeProbm4\n",
    "    \n",
    "    #negativeNonCrossingProb = negativeProbm1*negativeProbm2*negativeProbm3*negativeProbm4\n",
    "    #positiveNonCrossingProb = positiveProbm1*positiveProbm2*positiveProbm3*positiveProbm4\n",
    "    \n",
    "    crossingProb = 1.0 - (numNegativeNonCrossing/numSamples) - (numPositiveNonCrossing/numSamples)\n",
    "    \n",
    "    #if (abs(crossingProbOriginal-crossingProb)>0.3):\n",
    "    #    print('eigenvalues:', w)\n",
    "    \n",
    "    return crossingProb"
   ]
  },
  {
   "cell_type": "code",
   "execution_count": 31,
   "metadata": {},
   "outputs": [],
   "source": [
    "def computePearsonCorrelation(ensemble):\n",
    "    \n",
    "    h, w, d, numMembers = ensemble.shape\n",
    "    \n",
    "    pearsonCoefficients = np.zeros((h-1,w-1,d-1))\n",
    "    \n",
    "    for i in range(h-1):\n",
    "        for j in range(w-1):\n",
    "            for k in range(d-1):\n",
    "                \n",
    "                d1 = ensemble[i,j,k,:]\n",
    "                #print(\"d1\",d1)\n",
    "                d2 = ensemble[i+1,j,k,:]\n",
    "                d3 = ensemble[i+1,j+1,k,:]\n",
    "                d4 = ensemble[i,j+1,k,:]\n",
    "                d5 = ensemble[i,j,k+1,:]\n",
    "                d6 = ensemble[i+1,j,k+1,:]\n",
    "                d7 = ensemble[i+1,j+1,k+1,:]\n",
    "                d8 = ensemble[i,j+1,k+1,:] \n",
    "                \n",
    "                # Add to avoid invalid correlation value\n",
    "                #if (np.all(d1 == d1[0])):\n",
    "                #    d1 = d1 + np.random.uniform(0,0.001,numMembers)\n",
    "                #if (np.all(d2 == d2[0])):\n",
    "                #    d2 = d2 + np.random.uniform(0,0.001,numMembers)\n",
    "                #if (np.all(d3 == d3[0])):\n",
    "                #    d3 = d3 + np.random.uniform(0,0.001,numMembers)\n",
    "                #if (np.all(d4 == d4[0])):\n",
    "                #    d4 = d4 + np.random.uniform(0,0.001,numMembers)\n",
    "                #if (np.all(d5 == d5[0])):\n",
    "                #    d5 = d5 + np.random.uniform(0,0.001,numMembers)\n",
    "                #if (np.all(d6 == d6[0])):\n",
    "                #    d6 = d6 + np.random.uniform(0,0.001,numMembers)\n",
    "                #if (np.all(d7 == d7[0])):\n",
    "                #    d7 = d7 + np.random.uniform(0,0.001,numMembers)\n",
    "                #if (np.all(d8 == d8[0])):\n",
    "                #    d8 = d8 + np.random.uniform(0,0.001,numMembers)\n",
    "                \n",
    "                #d1 = d1 + np.random.uniform(0,0.001,numMembers)\n",
    "                #d2 = d2 + np.random.uniform(0,0.001,numMembers)\n",
    "                #d3 = d3 + np.random.uniform(0,0.001,numMembers)\n",
    "                #d4 = d4 + np.random.uniform(0,0.001,numMembers)\n",
    "                #d5 = d5 + np.random.uniform(0,0.001,numMembers)    \n",
    "                #d6 = d6 + np.random.uniform(0,0.001,numMembers)\n",
    "                #d7 = d7 + np.random.uniform(0,0.001,numMembers)\n",
    "                #d8 = d8 + np.random.uniform(0,0.001,numMembers)\n",
    "                    \n",
    "                pr1 = sc.stats.pearsonr(d1,d2)\n",
    "                pr2 = sc.stats.pearsonr(d1,d3)\n",
    "                pr3 = sc.stats.pearsonr(d1,d4)\n",
    "                pr4 = sc.stats.pearsonr(d1,d5)\n",
    "                pr5 = sc.stats.pearsonr(d1,d6)\n",
    "                pr6 = sc.stats.pearsonr(d1,d7)\n",
    "                pr7 = sc.stats.pearsonr(d1,d8)\n",
    "                    \n",
    "                pr8 = sc.stats.pearsonr(d2,d3)\n",
    "                pr9 = sc.stats.pearsonr(d2,d4)\n",
    "                pr10 = sc.stats.pearsonr(d2,d5)\n",
    "                pr11 = sc.stats.pearsonr(d2,d6)\n",
    "                pr12 = sc.stats.pearsonr(d2,d7)\n",
    "                pr13 = sc.stats.pearsonr(d2,d8)\n",
    "                    \n",
    "                pr14 = sc.stats.pearsonr(d3,d4)\n",
    "                pr15 = sc.stats.pearsonr(d3,d5)\n",
    "                pr16 = sc.stats.pearsonr(d3,d6)\n",
    "                pr17 = sc.stats.pearsonr(d3,d7)\n",
    "                pr18 = sc.stats.pearsonr(d3,d8)\n",
    "                    \n",
    "                pr19 = sc.stats.pearsonr(d4,d5)\n",
    "                pr20 = sc.stats.pearsonr(d4,d6)\n",
    "                pr21 = sc.stats.pearsonr(d4,d7)\n",
    "                pr22 = sc.stats.pearsonr(d4,d8)\n",
    "                    \n",
    "                pr23 = sc.stats.pearsonr(d5,d6)\n",
    "                pr24 = sc.stats.pearsonr(d5,d7)\n",
    "                pr25 = sc.stats.pearsonr(d5,d8)\n",
    "                    \n",
    "                pr26 = sc.stats.pearsonr(d6,d7)\n",
    "                pr27 = sc.stats.pearsonr(d6,d8)\n",
    "                    \n",
    "                pr28 = sc.stats.pearsonr(d7,d8)\n",
    "                \n",
    "                maxPearsonCorrelation = max(abs(pr1[0]),abs(pr2[0]),abs(pr3[0]),abs(pr4[0]),abs(pr5[0]),abs(pr6[0]),abs(pr7[0]),abs(pr8[0]),abs(pr9[0]),abs(pr10[0]),abs(pr11[0]),abs(pr12[0]),abs(pr13[0]),abs(pr14[0]),abs(pr15[0]),abs(pr16[0]),abs(pr17[0]),abs(pr18[0]),abs(pr19[0]),abs(pr20[0]),abs(pr21[0]),abs(pr22[0]),abs(pr23[0]),abs(pr24[0]),abs(pr25[0]),abs(pr26[0]),abs(pr27[0]),abs(pr28[0]))\n",
    "                    \n",
    "                #averagePearsonCorrelation = (abs(pr1[0])+abs(pr2[0])+abs(pr3[0])+abs(pr4[0])+abs(pr5[0])+abs(pr6[0])+abs(pr7[0])+abs(pr8[0])+abs(pr9[0])+abs(pr10[0])+abs(pr11[0])+abs(pr12[0])+abs(pr13[0])+abs(pr14[0])+abs(pr15[0])+abs(pr16[0])+abs(pr17[0])+abs(pr18[0])+abs(pr19[0])+abs(pr20[0])+abs(pr21[0])+abs(pr22[0])+abs(pr23[0])+abs(pr24[0])+abs(pr25[0])+abs(pr26[0])+abs(pr27[0])+abs(pr28[0]))/28\n",
    "                pearsonCoefficients[i,j,k] = maxPearsonCorrelation\n",
    "                \n",
    "                #maxPearsonCorrelation = np.amax(pr1[0],pr2[0],pr3[0],pr4[0],pr5[0],pr6[0],pr7[0],pr8[0],pr9[0],pr10[0],pr11[0],pr12[0],pr13[0],pr14[0],pr15[0],pr16[0],pr17[0],pr18[0],pr19[0],pr20[0],pr21[0],pr22[0],pr23[0],pr24[0],pr25[0],pr26[0],pr27[0],pr28[0])\n",
    "                #pearsonCoefficients[i,j,k] = maxPearsonCorrelation\n",
    "                 \n",
    "                \n",
    "    return pearsonCoefficients"
   ]
  },
  {
   "cell_type": "code",
   "execution_count": 33,
   "metadata": {},
   "outputs": [],
   "source": [
    "def PearsonAdaptiveBasedProbabilisticMarchingCubesMultivariate(ensemble, isovalue, correlationMap):\n",
    "    \n",
    "    h, w, d, numMembers = ensemble.shape\n",
    "    # Record number of cases per cell as well\n",
    "    crossingProbabilities = np.zeros((h-1,w-1,d-1))\n",
    "    \n",
    "    minimumGrid = np.zeros((h,w,d))\n",
    "    maximumGrid = np.zeros((h,w,d))\n",
    "    \n",
    "    \n",
    "    for i in range(h):\n",
    "        for j in range(w):\n",
    "            for k in range(d):\n",
    "                minimum = math.inf\n",
    "                maximum = -math.inf\n",
    "                for l in range(numMembers):\n",
    "                    if(ensemble[i,j,k,l] < minimum):\n",
    "                        minimum = ensemble[i,j,k,l]\n",
    "                    if(ensemble[i,j,k,l] > maximum):\n",
    "                        maximum = ensemble[i,j,k,l]    \n",
    "                minimumGrid[i,j,k] = minimum\n",
    "                maximumGrid[i,j,k] = maximum\n",
    "            \n",
    "    random.seed(10)   \n",
    "    numSamples = 500\n",
    "    \n",
    "    pearsonCoefficients = np.zeros((h-1,w-1,d-1))\n",
    "    for i in range(h-1):\n",
    "        for j in range(w-1):\n",
    "            for k in range(d-1):\n",
    "                \n",
    "                x1min = minimumGrid[i,j,k]\n",
    "                x1max = maximumGrid[i,j,k]\n",
    "                x2min = minimumGrid[i+1,j,k]\n",
    "                x2max = maximumGrid[i+1,j,k]\n",
    "                x3min = minimumGrid[i+1,j+1,k]\n",
    "                x3max = maximumGrid[i+1,j+1,k]\n",
    "                x4min = minimumGrid[i,j+1,k]\n",
    "                x4max = maximumGrid[i,j+1,k]\n",
    "                x5min = minimumGrid[i,j,k+1]\n",
    "                x5max = maximumGrid[i,j,k+1]\n",
    "                x6min = minimumGrid[i+1,j,k+1]\n",
    "                x6max = maximumGrid[i+1,j,k+1]\n",
    "                x7min = minimumGrid[i+1,j+1,k+1]\n",
    "                x7max = maximumGrid[i+1,j+1,k+1]\n",
    "                x8min = minimumGrid[i,j+1,k+1]\n",
    "                x8max = maximumGrid[i,j+1,k+1]\n",
    "            \n",
    "                minCell = min(x1min, x2min, x3min, x4min, x5min, x6min, x7min, x8min)\n",
    "                maxCell = max(x1max, x2max, x3max, x4max, x5min, x6min, x7min, x8min)\n",
    "                \n",
    "                \n",
    "                # sample if isovalue falls between minCell and maxCell\n",
    "                if (isovalue > minCell) and (isovalue < maxCell):\n",
    "                \n",
    "                    #Estimate mean and covariance matrices from samples\n",
    "                    m1 = np.mean(ensemble[i,j,k,:])\n",
    "                    m2 = np.mean(ensemble[i+1,j,k,:])   \n",
    "                    m3 = np.mean(ensemble[i+1,j+1,k,:])\n",
    "                    m4 = np.mean(ensemble[i,j+1,k,:])     \n",
    "                    m5 = np.mean(ensemble[i,j,k+1,:])\n",
    "                    m6 = np.mean(ensemble[i+1,j,k+1,:])   \n",
    "                    m7 = np.mean(ensemble[i+1,j+1,k+1,:])\n",
    "                    m8 = np.mean(ensemble[i,j+1,k+1,:]) \n",
    "                    \n",
    "                    meanArray = np.array([m1,m2,m3,m4,m5,m6,m7,m8])     \n",
    "                    #print(meanArray)\n",
    "                \n",
    "                    d1 = ensemble[i,j,k,:]\n",
    "                    d2 = ensemble[i+1,j,k,:]\n",
    "                    d3 = ensemble[i+1,j+1,k,:]\n",
    "                    d4 = ensemble[i,j+1,k,:]\n",
    "                    d5 = ensemble[i,j,k+1,:]\n",
    "                    d6 = ensemble[i+1,j,k+1,:]\n",
    "                    d7 = ensemble[i+1,j+1,k+1,:]\n",
    "                    d8 = ensemble[i,j+1,k+1,:]\n",
    "                    \n",
    "                    observedData = np.array([d1,d2,d3,d4,d5,d6,d7,d8])\n",
    "                    \n",
    "                    #pr1 = sc.stats.pearsonr(d1,d2)\n",
    "                    #pr2 = sc.stats.pearsonr(d2,d3)\n",
    "                    #pr3 = sc.stats.pearsonr(d3,d4)\n",
    "                    #pr4 = sc.stats.pearsonr(d4,d5)\n",
    "                    #pr5 = sc.stats.pearsonr(d5,d6)\n",
    "                    #pr6 = sc.stats.pearsonr(d6,d7)\n",
    "                    #pr7 = sc.stats.pearsonr(d7,d8)\n",
    "                    \n",
    "                    #maxPearsonCorrelation = max(abs(pr1[0]),abs(pr2[0]),abs(pr3[0]),abs(pr4[0]),abs(pr5[0]),abs(pr6[0]),abs(pr7[0]))\n",
    "                    \n",
    "                    #pr1 = sc.stats.pearsonr(d1,d2)\n",
    "                    #pr2 = sc.stats.pearsonr(d1,d3)\n",
    "                    #pr3 = sc.stats.pearsonr(d1,d4)\n",
    "                    #pr4 = sc.stats.pearsonr(d1,d5)\n",
    "                    #pr5 = sc.stats.pearsonr(d1,d6)\n",
    "                    #pr6 = sc.stats.pearsonr(d1,d7)\n",
    "                    #pr7 = sc.stats.pearsonr(d1,d8)\n",
    "                    \n",
    "                    #pr8 = sc.stats.pearsonr(d2,d3)\n",
    "                    #pr9 = sc.stats.pearsonr(d2,d4)\n",
    "                    #pr10 = sc.stats.pearsonr(d2,d5)\n",
    "                    #pr11 = sc.stats.pearsonr(d2,d6)\n",
    "                    #pr12 = sc.stats.pearsonr(d2,d7)\n",
    "                    #pr13 = sc.stats.pearsonr(d2,d8)\n",
    "                    \n",
    "                    #pr14 = sc.stats.pearsonr(d3,d4)\n",
    "                    #pr15 = sc.stats.pearsonr(d3,d5)\n",
    "                    #pr16 = sc.stats.pearsonr(d3,d6)\n",
    "                    #pr17 = sc.stats.pearsonr(d3,d7)\n",
    "                    #pr18 = sc.stats.pearsonr(d3,d8)\n",
    "                    \n",
    "                    #pr19 = sc.stats.pearsonr(d4,d5)\n",
    "                    #pr20 = sc.stats.pearsonr(d4,d6)\n",
    "                    #pr21 = sc.stats.pearsonr(d4,d7)\n",
    "                    #pr22 = sc.stats.pearsonr(d4,d8)\n",
    "                    \n",
    "                    #pr23 = sc.stats.pearsonr(d5,d6)\n",
    "                    #pr24 = sc.stats.pearsonr(d5,d7)\n",
    "                    #pr25 = sc.stats.pearsonr(d5,d8)\n",
    "                    \n",
    "                    #pr26 = sc.stats.pearsonr(d6,d7)\n",
    "                    #pr27 = sc.stats.pearsonr(d6,d8)\n",
    "                    \n",
    "                    #pr28 = sc.stats.pearsonr(d7,d8)\n",
    "                    \n",
    "                    #averagePearsonCorrelation = (abs(pr1[0])+abs(pr2[0])+abs(pr3[0])+abs(pr4[0])+abs(pr5[0])+abs(pr6[0])+abs(pr7[0])+abs(pr8[0])+abs(pr9[0])+abs(pr10[0])+abs(pr11[0])+abs(pr12[0])+abs(pr13[0])+abs(pr14[0])+abs(pr15[0])+abs(pr16[0])+abs(pr17[0])+abs(pr18[0])+abs(pr19[0])+abs(pr20[0])+abs(pr21[0])+abs(pr22[0])+abs(pr23[0])+abs(pr24[0])+abs(pr25[0])+abs(pr26[0])+abs(pr27[0])+abs(pr28[0]))/28\n",
    "                    #pearsonCoefficients[i,j,k] = averagePearsonCorrelation\n",
    "                    \n",
    "                    #maxPearsonCorrelation = max(abs(pr1[0]),abs(pr2[0]),abs(pr3[0]),abs(pr4[0]),abs(pr5[0]),abs(pr6[0]),abs(pr7[0]),abs(pr8[0]),abs(pr9[0]),abs(pr10[0]),abs(pr11[0]),abs(pr12[0]),abs(pr13[0]),abs(pr14[0]),abs(pr15[0]),abs(pr16[0]),abs(pr17[0]),abs(pr18[0]),abs(pr19[0]),abs(pr20[0]),abs(pr21[0]),abs(pr22[0]),abs(pr23[0]),abs(pr24[0]),abs(pr25[0]),abs(pr26[0]),abs(pr27[0]),abs(pr28[0]))\n",
    "                    #pearsonCoefficients[i,j,k] = maxPearsonCorrelation\n",
    "                    \n",
    "                    #pr1 = sc.stats.pearsonr(d1,d2)\n",
    "                    #pr2 = sc.stats.pearsonr(d2,d3)\n",
    "                    #pr3 = sc.stats.pearsonr(d3,d4)\n",
    "                    #pr4 = sc.stats.pearsonr(d4,d5)\n",
    "                    #pr5 = sc.stats.pearsonr(d5,d6)\n",
    "                    #pr6 = sc.stats.pearsonr(d6,d7)\n",
    "                    #pr7 = sc.stats.pearsonr(d7,d8)\n",
    "                    #averagePearsonCorrelation = abs((pr1[0]+pr2[0]+pr3[0]+pr4[0]+pr5[0]+pr6[0]+pr7[0])/7)\n",
    "                    \n",
    "                    #pr1 = sc.stats.pearsonr(d1,d2)\n",
    "                    #pr2 = sc.stats.pearsonr(d1,d3)\n",
    "                    #pr3 = sc.stats.pearsonr(d1,d4)\n",
    "                    #pr4 = sc.stats.pearsonr(d1,d5)\n",
    "                    #pr5 = sc.stats.pearsonr(d1,d6)\n",
    "                    #pr6 = sc.stats.pearsonr(d1,d7)\n",
    "                    #pr7 = sc.stats.pearsonr(d1,d8)\n",
    "                    \n",
    "                    #pr8 = sc.stats.pearsonr(d2,d3)\n",
    "                    #pr9 = sc.stats.pearsonr(d2,d4)\n",
    "                    #pr10 = sc.stats.pearsonr(d2,d5)\n",
    "                    #pr11 = sc.stats.pearsonr(d2,d6)\n",
    "                    #pr12 = sc.stats.pearsonr(d2,d7)\n",
    "                    #pr13 = sc.stats.pearsonr(d2,d8)\n",
    "                    \n",
    "                    #pr14 = sc.stats.pearsonr(d3,d4)\n",
    "                    #pr15 = sc.stats.pearsonr(d3,d5)\n",
    "                    #pr16 = sc.stats.pearsonr(d3,d6)\n",
    "                    #pr17 = sc.stats.pearsonr(d3,d7)\n",
    "                    #pr18 = sc.stats.pearsonr(d3,d8)\n",
    "                    \n",
    "                    #pr19 = sc.stats.pearsonr(d4,d5)\n",
    "                    #pr20 = sc.stats.pearsonr(d4,d6)\n",
    "                    #pr21 = sc.stats.pearsonr(d4,d7)\n",
    "                    #pr22 = sc.stats.pearsonr(d4,d8)\n",
    "                    \n",
    "                    #pr23 = sc.stats.pearsonr(d5,d6)\n",
    "                    #pr24 = sc.stats.pearsonr(d5,d7)\n",
    "                    #pr25 = sc.stats.pearsonr(d5,d8)\n",
    "                    \n",
    "                    #pr26 = sc.stats.pearsonr(d6,d7)\n",
    "                    #pr27 = sc.stats.pearsonr(d6,d8)\n",
    "                    \n",
    "                    #pr28 = sc.stats.pearsonr(d7,d8)\n",
    "                    \n",
    "                    #averagePearsonCorrelation = abs((pr1[0]+pr2[0]+pr3[0]+pr4[0]+pr5[0]+pr6[0]+pr7[0]+pr8[0]+pr9[0]+pr10[0]+pr11[0]+pr12[0]+pr13[0]+pr14[0]+pr15[0]+pr16[0]+pr17[0]+pr18[0]+pr19[0]+pr20[0]+pr21[0]+pr22[0]+pr23[0]+pr24[0]+pr25[0]+pr26[0]+pr27[0]+pr28[0])/28)\n",
    "                    maxPearsonCorrelation = correlationMap[i,j,k]\n",
    "                    pearsonCoefficients[i,j,k] = maxPearsonCorrelation\n",
    "                    \n",
    "                    if (maxPearsonCorrelation<=0.2):       \n",
    "        \n",
    "                        std1 = np.std(d1)\n",
    "                        std2 = np.std(d2)\n",
    "                        std3 = np.std(d3)\n",
    "                        std4 = np.std(d4)\n",
    "                        std5 = np.std(d5)\n",
    "                        std6 = np.std(d6)\n",
    "                        std7 = np.std(d7)\n",
    "                        std8 = np.std(d8)\n",
    "                        \n",
    "                        # Avoid divide by 0 error\n",
    "                        if (std1==0):\n",
    "                            std1 = 0.00001\n",
    "                        if (std2==0):\n",
    "                            std2 = 0.00001\n",
    "                        if (std3==0):\n",
    "                            std3 = 0.00001\n",
    "                        if (std4==0):\n",
    "                            std4 = 0.00001\n",
    "                        if (std5==0):\n",
    "                            std5 = 0.00001\n",
    "                        if (std6==0):\n",
    "                            std6 = 0.00001\n",
    "                        if (std7==0):\n",
    "                            std7 = 0.00001\n",
    "                        if (std8==0):\n",
    "                            std8 = 0.00001\n",
    "                        \n",
    "                        negProb1 = 0.5*(1 + math.erf((isovalue - m1)/(math.sqrt(2)*std1)))\n",
    "                        negProb2 = 0.5*(1 + math.erf((isovalue - m2)/(math.sqrt(2)*std2)))\n",
    "                        negProb3 = 0.5*(1 + math.erf((isovalue - m3)/(math.sqrt(2)*std3)))\n",
    "                        negProb4 = 0.5*(1 + math.erf((isovalue - m4)/(math.sqrt(2)*std4)))\n",
    "                        negProb5 = 0.5*(1 + math.erf((isovalue - m5)/(math.sqrt(2)*std5)))\n",
    "                        negProb6 = 0.5*(1 + math.erf((isovalue - m6)/(math.sqrt(2)*std6)))\n",
    "                        negProb7 = 0.5*(1 + math.erf((isovalue - m7)/(math.sqrt(2)*std7)))\n",
    "                        negProb8 = 0.5*(1 + math.erf((isovalue - m8)/(math.sqrt(2)*std8)))\n",
    "        \n",
    "                        posProb1 = 1 - negProb1\n",
    "                        posProb2 = 1 - negProb2\n",
    "                        posProb3 = 1 - negProb3\n",
    "                        posProb4 = 1 - negProb4\n",
    "                        posProb5 = 1 - negProb5\n",
    "                        posProb6 = 1 - negProb6\n",
    "                        posProb7 = 1 - negProb7\n",
    "                        posProb8 = 1 - negProb8\n",
    "        \n",
    "                        allNegativeProb = negProb1*negProb2*negProb3*negProb4*negProb5*negProb6*negProb7*negProb8\n",
    "                        allPositiveProb = posProb1*posProb2*posProb3*posProb4*posProb5*posProb6*posProb7*posProb8\n",
    "        \n",
    "                        crossingProb = 1 - allNegativeProb -allPositiveProb\n",
    "                \n",
    "                    else:\n",
    "                \n",
    "                        covMatrix = np.cov(observedData)\n",
    "                        crossingProbEig = PearsonAdaptiveCrossingProbWithEigenDecomposition(meanArray, covMatrix, isovalue, numSamples)\n",
    "                    \n",
    "                    crossingProbabilities[i,j,k] = crossingProbEig\n",
    "                \n",
    "    return crossingProbabilities, pearsonCoefficients"
   ]
  },
  {
   "cell_type": "code",
   "execution_count": 40,
   "metadata": {},
   "outputs": [],
   "source": [
    "def eigenBasedProbabilisticMarchingCubesMultivariate(ensemble, isovalue):\n",
    "    \n",
    "    h, w, d, numMembers = ensemble.shape\n",
    "    # Record number of cases per cell as well\n",
    "    crossingProbabilities = np.zeros((h-1,w-1,d-1))\n",
    "    \n",
    "    minimumGrid = np.zeros((h,w,d))\n",
    "    maximumGrid = np.zeros((h,w,d))\n",
    "    #eigenmap = np.zeros((h,w,d,8))\n",
    "    \n",
    "    \n",
    "    for i in range(h):\n",
    "        for j in range(w):\n",
    "            for k in range(d):\n",
    "                minimum = math.inf\n",
    "                maximum = -math.inf\n",
    "                for l in range(numMembers):\n",
    "                    if(ensemble[i,j,k,l] < minimum):\n",
    "                        minimum = ensemble[i,j,k,l]\n",
    "                    if(ensemble[i,j,k,l] > maximum):\n",
    "                        maximum = ensemble[i,j,k,l]    \n",
    "                minimumGrid[i,j,k] = minimum\n",
    "                maximumGrid[i,j,k] = maximum\n",
    "            \n",
    "    random.seed(10)   \n",
    "    numSamples = 500\n",
    "    for i in range(h-1):\n",
    "        for j in range(w-1):\n",
    "            for k in range(d-1):\n",
    "                \n",
    "                x1min = minimumGrid[i,j,k]\n",
    "                x1max = maximumGrid[i,j,k]\n",
    "                x2min = minimumGrid[i+1,j,k]\n",
    "                x2max = maximumGrid[i+1,j,k]\n",
    "                x3min = minimumGrid[i+1,j+1,k]\n",
    "                x3max = maximumGrid[i+1,j+1,k]\n",
    "                x4min = minimumGrid[i,j+1,k]\n",
    "                x4max = maximumGrid[i,j+1,k]\n",
    "                x5min = minimumGrid[i,j,k+1]\n",
    "                x5max = maximumGrid[i,j,k+1]\n",
    "                x6min = minimumGrid[i+1,j,k+1]\n",
    "                x6max = maximumGrid[i+1,j,k+1]\n",
    "                x7min = minimumGrid[i+1,j+1,k+1]\n",
    "                x7max = maximumGrid[i+1,j+1,k+1]\n",
    "                x8min = minimumGrid[i,j+1,k+1]\n",
    "                x8max = maximumGrid[i,j+1,k+1]\n",
    "            \n",
    "                minCell = min(x1min, x2min, x3min, x4min, x5min, x6min, x7min, x8min)\n",
    "                maxCell = max(x1max, x2max, x3max, x4max, x5min, x6min, x7min, x8min)\n",
    "                \n",
    "                \n",
    "                # sample if isovalue falls between minCell and maxCell\n",
    "                if (isovalue > minCell) and (isovalue < maxCell):\n",
    "                \n",
    "                    #Estimate mean and covariance matrices from samples\n",
    "                    m1 = np.mean(ensemble[i,j,k,:])\n",
    "                    m2 = np.mean(ensemble[i+1,j,k,:])   \n",
    "                    m3 = np.mean(ensemble[i+1,j+1,k,:])\n",
    "                    m4 = np.mean(ensemble[i,j+1,k,:])     \n",
    "                    m5 = np.mean(ensemble[i,j,k+1,:])\n",
    "                    m6 = np.mean(ensemble[i+1,j,k+1,:])   \n",
    "                    m7 = np.mean(ensemble[i+1,j+1,k+1,:])\n",
    "                    m8 = np.mean(ensemble[i,j+1,k+1,:]) \n",
    "                    \n",
    "                    meanArray = np.array([m1,m2,m3,m4,m5,m6,m7,m8])     \n",
    "                    #print(meanArray)\n",
    "                \n",
    "                    d1 = ensemble[i,j,k,:]\n",
    "                    d2 = ensemble[i+1,j,k,:]\n",
    "                    d3 = ensemble[i+1,j+1,k,:]\n",
    "                    d4 = ensemble[i,j+1,k,:]\n",
    "                    d5 = ensemble[i,j,k+1,:]\n",
    "                    d6 = ensemble[i+1,j,k+1,:]\n",
    "                    d7 = ensemble[i+1,j+1,k+1,:]\n",
    "                    d8 = ensemble[i,j+1,k+1,:]\n",
    "                    \n",
    "                    observedData = np.array([d1,d2,d3,d4,d5,d6,d7,d8])   \n",
    "                \n",
    "                    covMatrix = np.cov(observedData)\n",
    "                    \n",
    "                    # Draw samples from multivariate normal\n",
    "                    #samples = np.random.multivariate_normal(meanArray, covMatrix, numSamples)\n",
    "                                \n",
    "                    #x1Samples = samples[:,0]\n",
    "                    #x2Samples = samples[:,1]\n",
    "                    #x3Samples = samples[:,2]\n",
    "                    #x4Samples = samples[:,3]\n",
    "                    #x5Samples = samples[:,4]\n",
    "                    #x6Samples = samples[:,5]\n",
    "                    #x7Samples = samples[:,6]\n",
    "                    #x8Samples = samples[:,7]\n",
    "                \n",
    "                    #x1Samples = x1Samples.reshape(1, numSamples)\n",
    "                    #x2Samples = x2Samples.reshape(1, numSamples)\n",
    "                    #x3Samples = x3Samples.reshape(1, numSamples)\n",
    "                    #x4Samples = x4Samples.reshape(1, numSamples)\n",
    "                    #x5Samples = x5Samples.reshape(1, numSamples)\n",
    "                    #x6Samples = x6Samples.reshape(1, numSamples)\n",
    "                    #x7Samples = x7Samples.reshape(1, numSamples)\n",
    "                    #x8Samples = x8Samples.reshape(1, numSamples)\n",
    "                \n",
    "                    #crossings = 0\n",
    "                \n",
    "                    #for l in range(numSamples):\n",
    "                    #    minVal = min(x1Samples[0,l],x2Samples[0,l],x3Samples[0,l],x4Samples[0,l],x5Samples[0,l],x6Samples[0,l],x7Samples[0,l],x8Samples[0,l])\n",
    "                    #    maxVal = max(x1Samples[0,l],x2Samples[0,l],x3Samples[0,l],x4Samples[0,l],x5Samples[0,l],x6Samples[0,l],x7Samples[0,l],x8Samples[0,l])\n",
    "                    #    if (isovalue > minVal) and (isovalue < maxVal):\n",
    "                    #        crossings = crossings + 1;\n",
    "                        \n",
    "                    #crossingProb = crossings/numSamples\n",
    "                    \n",
    "                    #crossingProbEig = getCrossingProbWithEigenDecomposition(meanArray, covMatrix, isovalue, numSamples)\n",
    "                \n",
    "                    crossingProbEig = adaptiveCrossingProbWithEigenDecomposition(meanArray, covMatrix, isovalue, numSamples)\n",
    "                    crossingProbabilities[i,j,k] = crossingProbEig\n",
    "                    #eigenmap[i,j,k,:] = eigvals\n",
    "                \n",
    "    return crossingProbabilities"
   ]
  },
  {
   "cell_type": "code",
   "execution_count": 13,
   "metadata": {},
   "outputs": [],
   "source": [
    "def probabilisticMarchingCubesMultivariate(ensemble, isovalue):\n",
    "    \n",
    "    h, w, d, numMembers = ensemble.shape\n",
    "    # Record number of cases per cell as well\n",
    "    crossingProbabilities = np.zeros((h-1,w-1,d-1))\n",
    "    \n",
    "    minimumGrid = np.zeros((h,w,d))\n",
    "    maximumGrid = np.zeros((h,w,d))\n",
    "    for i in range(h):\n",
    "        for j in range(w):\n",
    "            for k in range(d):\n",
    "                minimum = math.inf\n",
    "                maximum = -math.inf\n",
    "                for l in range(numMembers):\n",
    "                    if(ensemble[i,j,k,l] < minimum):\n",
    "                        minimum = ensemble[i,j,k,l]\n",
    "                    if(ensemble[i,j,k,l] > maximum):\n",
    "                        maximum = ensemble[i,j,k,l]    \n",
    "                minimumGrid[i,j,k] = minimum\n",
    "                maximumGrid[i,j,k] = maximum\n",
    "            \n",
    "    random.seed(10)   \n",
    "    numSamples = 500\n",
    "    for i in range(h-1):\n",
    "        for j in range(w-1):\n",
    "            for k in range(d-1):\n",
    "                \n",
    "                x1min = minimumGrid[i,j,k]\n",
    "                x1max = maximumGrid[i,j,k]\n",
    "                x2min = minimumGrid[i+1,j,k]\n",
    "                x2max = maximumGrid[i+1,j,k]\n",
    "                x3min = minimumGrid[i+1,j+1,k]\n",
    "                x3max = maximumGrid[i+1,j+1,k]\n",
    "                x4min = minimumGrid[i,j+1,k]\n",
    "                x4max = maximumGrid[i,j+1,k]\n",
    "                x5min = minimumGrid[i,j,k+1]\n",
    "                x5max = maximumGrid[i,j,k+1]\n",
    "                x6min = minimumGrid[i+1,j,k+1]\n",
    "                x6max = maximumGrid[i+1,j,k+1]\n",
    "                x7min = minimumGrid[i+1,j+1,k+1]\n",
    "                x7max = maximumGrid[i+1,j+1,k+1]\n",
    "                x8min = minimumGrid[i,j+1,k+1]\n",
    "                x8max = maximumGrid[i,j+1,k+1]\n",
    "            \n",
    "                minCell = min(x1min, x2min, x3min, x4min, x5min, x6min, x7min, x8min)\n",
    "                maxCell = max(x1max, x2max, x3max, x4max, x5min, x6min, x7min, x8min)\n",
    "                \n",
    "                \n",
    "                # sample if isovalue falls between minCell and maxCell\n",
    "                if (isovalue > minCell) and (isovalue < maxCell):\n",
    "                \n",
    "                    #Estimate mean and covariance matrices from samples\n",
    "                    m1 = np.mean(ensemble[i,j,k,:])\n",
    "                    m2 = np.mean(ensemble[i+1,j,k,:])   \n",
    "                    m3 = np.mean(ensemble[i+1,j+1,k,:])\n",
    "                    m4 = np.mean(ensemble[i,j+1,k,:])     \n",
    "                    m5 = np.mean(ensemble[i,j,k+1,:])\n",
    "                    m6 = np.mean(ensemble[i+1,j,k+1,:])   \n",
    "                    m7 = np.mean(ensemble[i+1,j+1,k+1,:])\n",
    "                    m8 = np.mean(ensemble[i,j+1,k+1,:]) \n",
    "                    \n",
    "                    meanArray = np.array([m1,m2,m3,m4,m5,m6,m7,m8])     \n",
    "                    #print(meanArray)\n",
    "                \n",
    "                    d1 = ensemble[i,j,k,:]\n",
    "                    d2 = ensemble[i+1,j,k,:]\n",
    "                    d3 = ensemble[i+1,j+1,k,:]\n",
    "                    d4 = ensemble[i,j+1,k,:]\n",
    "                    d5 = ensemble[i,j,k+1,:]\n",
    "                    d6 = ensemble[i+1,j,k+1,:]\n",
    "                    d7 = ensemble[i+1,j+1,k+1,:]\n",
    "                    d8 = ensemble[i,j+1,k+1,:]\n",
    "                    \n",
    "                    observedData = np.array([d1,d2,d3,d4,d5,d6,d7,d8])   \n",
    "                \n",
    "                    covMatrix = np.cov(observedData)\n",
    "                    \n",
    "                    # Draw samples from multivariate normal\n",
    "                    samples = np.random.multivariate_normal(meanArray, covMatrix, numSamples)\n",
    "                                \n",
    "                    x1Samples = samples[:,0]\n",
    "                    x2Samples = samples[:,1]\n",
    "                    x3Samples = samples[:,2]\n",
    "                    x4Samples = samples[:,3]\n",
    "                    x5Samples = samples[:,4]\n",
    "                    x6Samples = samples[:,5]\n",
    "                    x7Samples = samples[:,6]\n",
    "                    x8Samples = samples[:,7]\n",
    "                \n",
    "                    x1Samples = x1Samples.reshape(1, numSamples)\n",
    "                    x2Samples = x2Samples.reshape(1, numSamples)\n",
    "                    x3Samples = x3Samples.reshape(1, numSamples)\n",
    "                    x4Samples = x4Samples.reshape(1, numSamples)\n",
    "                    x5Samples = x5Samples.reshape(1, numSamples)\n",
    "                    x6Samples = x6Samples.reshape(1, numSamples)\n",
    "                    x7Samples = x7Samples.reshape(1, numSamples)\n",
    "                    x8Samples = x8Samples.reshape(1, numSamples)\n",
    "                \n",
    "                    crossings = 0\n",
    "                \n",
    "                    for l in range(numSamples):\n",
    "                        minVal = min(x1Samples[0,l],x2Samples[0,l],x3Samples[0,l],x4Samples[0,l],x5Samples[0,l],x6Samples[0,l],x7Samples[0,l],x8Samples[0,l])\n",
    "                        maxVal = max(x1Samples[0,l],x2Samples[0,l],x3Samples[0,l],x4Samples[0,l],x5Samples[0,l],x6Samples[0,l],x7Samples[0,l],x8Samples[0,l])\n",
    "                        if (isovalue > minVal) and (isovalue < maxVal):\n",
    "                            crossings = crossings + 1;\n",
    "                        \n",
    "                    crossingProb = crossings/numSamples\n",
    "                \n",
    "                    crossingProbabilities[i,j,k] = crossingProb\n",
    "                \n",
    "    return crossingProbabilities"
   ]
  },
  {
   "cell_type": "code",
   "execution_count": 20,
   "metadata": {},
   "outputs": [
    {
     "name": "stdout",
     "output_type": "stream",
     "text": [
      "multivariate time: 383.383049\n"
     ]
    }
   ],
   "source": [
    "# Visualize crossing probabilities : Probabilistic marching squares\n",
    "isovalue = 900\n",
    "t1_start = process_time() \n",
    "crossingProbabilitiesMultivariate = probabilisticMarchingCubesMultivariate(ensemble, isovalue)\n",
    "t1_stop = process_time()\n",
    "print('multivariate time:', t1_stop-t1_start)"
   ]
  },
  {
   "cell_type": "code",
   "execution_count": 42,
   "metadata": {},
   "outputs": [
    {
     "name": "stderr",
     "output_type": "stream",
     "text": [
      "/var/folders/1c/3fmc6kxd5kzcmjws0d7kmhw85hdtjh/T/ipykernel_62857/1365307529.py:59: ComplexWarning: Casting complex values to real discards the imaginary part\n",
      "  temp = np.random.normal(0, math.sqrt(w[i]), numSamples).T\n"
     ]
    },
    {
     "name": "stdout",
     "output_type": "stream",
     "text": [
      "eigen-based multivariate time: 240.4232839999995\n"
     ]
    }
   ],
   "source": [
    "# Visualize crossing probabilities : Probabilistic marching squares\n",
    "isovalue = 900\n",
    "t1_start = process_time() \n",
    "eigenCrossingProbabilitiesMultivariate = eigenBasedProbabilisticMarchingCubesMultivariate(ensemble, isovalue)\n",
    "t1_stop = process_time()\n",
    "print('eigen-based multivariate time:', t1_stop-t1_start)"
   ]
  },
  {
   "cell_type": "code",
   "execution_count": 53,
   "metadata": {},
   "outputs": [
    {
     "name": "stderr",
     "output_type": "stream",
     "text": [
      "/usr/local/anaconda3/envs/marchingCubesTopoUncertainty/lib/python3.11/site-packages/scipy/stats/_stats_py.py:4424: ConstantInputWarning: An input array is constant; the correlation coefficient is not defined.\n",
      "  warnings.warn(stats.ConstantInputWarning(msg))\n"
     ]
    }
   ],
   "source": [
    "# Precompute Pearson's correlation map\n",
    "pearsonCorr= computePearsonCorrelation(ensemble)\n"
   ]
  },
  {
   "cell_type": "code",
   "execution_count": 55,
   "metadata": {},
   "outputs": [
    {
     "name": "stdout",
     "output_type": "stream",
     "text": [
      "(123, 207, 207)\n"
     ]
    }
   ],
   "source": [
    "print(pearsonCorr.shape)"
   ]
  },
  {
   "cell_type": "code",
   "execution_count": 34,
   "metadata": {},
   "outputs": [
    {
     "name": "stderr",
     "output_type": "stream",
     "text": [
      "/var/folders/1c/3fmc6kxd5kzcmjws0d7kmhw85hdtjh/T/ipykernel_62857/1878007764.py:60: ComplexWarning: Casting complex values to real discards the imaginary part\n",
      "  temp = np.random.normal(0, math.sqrt(w[i]), numSamples).T\n"
     ]
    },
    {
     "name": "stdout",
     "output_type": "stream",
     "text": [
      "Pearson time: 231.28344900000002\n"
     ]
    }
   ],
   "source": [
    "# Visualize crossing probabilities : Probabilistic marching squares (Pearson)\n",
    "isovalue = 900\n",
    "t1_start = process_time()\n",
    "crossingProbabilitiesPearson, pearsoncoeff = PearsonAdaptiveBasedProbabilisticMarchingCubesMultivariate(ensemble, isovalue, pearsonCorr)\n",
    "t1_stop = process_time()\n",
    "print('Pearson time:', t1_stop-t1_start)"
   ]
  },
  {
   "cell_type": "code",
   "execution_count": 56,
   "metadata": {},
   "outputs": [
    {
     "data": {
      "text/plain": [
       "'/Users/tm8/tusharathawale/projects/research/multivariateGaussianClosedFormCrossingProb/3D/maxPearsonCorrelation.vti'"
      ]
     },
     "execution_count": 56,
     "metadata": {},
     "output_type": "execute_result"
    }
   ],
   "source": [
    "imageToVTK(\"./maxPearsonCorrelation\", pointData = {\"maxPearsonCorrelation\" : pearsonCorr})"
   ]
  },
  {
   "cell_type": "code",
   "execution_count": 74,
   "metadata": {},
   "outputs": [
    {
     "data": {
      "text/plain": [
       "'/Users/tm8/tusharathawale/projects/research/multivariateGaussianClosedFormCrossingProb/3D/multivariateGaussianCrossingProb.vti'"
      ]
     },
     "execution_count": 74,
     "metadata": {},
     "output_type": "execute_result"
    }
   ],
   "source": [
    "imageToVTK(\"./multivariateGaussianCrossingProb\", pointData = {\"multivariateGaussianCrossingProb\" : crossingProbabilitiesMultivariate})"
   ]
  },
  {
   "cell_type": "code",
   "execution_count": 43,
   "metadata": {},
   "outputs": [
    {
     "data": {
      "text/plain": [
       "'/Users/tm8/tusharathawale/projects/research/multivariateGaussianClosedFormCrossingProb/3D/eigenMultivariateGaussianCrossingProb.vti'"
      ]
     },
     "execution_count": 43,
     "metadata": {},
     "output_type": "execute_result"
    }
   ],
   "source": [
    "imageToVTK(\"./eigenMultivariateGaussianCrossingProb\", pointData = {\"eigenMultivariateGaussianCrossingProb\" : eigenCrossingProbabilitiesMultivariate})"
   ]
  },
  {
   "cell_type": "code",
   "execution_count": 37,
   "metadata": {},
   "outputs": [
    {
     "data": {
      "text/plain": [
       "'/Users/tm8/tusharathawale/projects/research/multivariateGaussianClosedFormCrossingProb/3D/pearsonMultivariateGaussianCrossingProb.vti'"
      ]
     },
     "execution_count": 37,
     "metadata": {},
     "output_type": "execute_result"
    }
   ],
   "source": [
    "imageToVTK(\"./pearsonMultivariateGaussianCrossingProb\", pointData = {\"pearsonMultivariateGaussianCrossingProb\" : crossingProbabilitiesPearson})"
   ]
  },
  {
   "cell_type": "code",
   "execution_count": 76,
   "metadata": {},
   "outputs": [
    {
     "name": "stdout",
     "output_type": "stream",
     "text": [
      "(123, 208, 208, 8)\n",
      "(123, 208, 208)\n"
     ]
    },
    {
     "data": {
      "text/plain": [
       "'/Users/tm8/tusharathawale/projects/research/multivariateGaussianClosedFormCrossingProb/3D/eigenvalue0.vti'"
      ]
     },
     "execution_count": 76,
     "metadata": {},
     "output_type": "execute_result"
    }
   ],
   "source": [
    "print(eigenmap.shape)\n",
    "eigenVal0 = np.squeeze(eigenmap[:,:,:,0])\n",
    "eigenVal0 = eigenVal0.astype(float)\n",
    "print(eigenVal0.shape)\n",
    "imageToVTK(\"./eigenvalue0\", pointData = {\"eigenvalue0\" : eigenVal0})"
   ]
  },
  {
   "cell_type": "code",
   "execution_count": 77,
   "metadata": {},
   "outputs": [
    {
     "name": "stdout",
     "output_type": "stream",
     "text": [
      "(123, 208, 208, 8)\n",
      "(123, 208, 208)\n"
     ]
    },
    {
     "data": {
      "text/plain": [
       "'/Users/tm8/tusharathawale/projects/research/multivariateGaussianClosedFormCrossingProb/3D/eigenvalue1.vti'"
      ]
     },
     "execution_count": 77,
     "metadata": {},
     "output_type": "execute_result"
    }
   ],
   "source": [
    "print(eigenmap.shape)\n",
    "eigenVal1 = np.squeeze(eigenmap[:,:,:,1])\n",
    "eigenVal1 = eigenVal1.astype(float)\n",
    "print(eigenVal1.shape)\n",
    "imageToVTK(\"./eigenvalue1\", pointData = {\"eigenvalue1\" : eigenVal1})"
   ]
  },
  {
   "cell_type": "code",
   "execution_count": 78,
   "metadata": {},
   "outputs": [
    {
     "name": "stdout",
     "output_type": "stream",
     "text": [
      "(123, 208, 208, 8)\n",
      "(123, 208, 208)\n"
     ]
    },
    {
     "data": {
      "text/plain": [
       "'/Users/tm8/tusharathawale/projects/research/multivariateGaussianClosedFormCrossingProb/3D/eigenvalue2.vti'"
      ]
     },
     "execution_count": 78,
     "metadata": {},
     "output_type": "execute_result"
    }
   ],
   "source": [
    "print(eigenmap.shape)\n",
    "eigenVal2 = np.squeeze(eigenmap[:,:,:,2])\n",
    "eigenVal2 = eigenVal2.astype(float)\n",
    "print(eigenVal2.shape)\n",
    "imageToVTK(\"./eigenvalue2\", pointData = {\"eigenvalue2\" : eigenVal2})"
   ]
  },
  {
   "cell_type": "code",
   "execution_count": 79,
   "metadata": {},
   "outputs": [
    {
     "name": "stdout",
     "output_type": "stream",
     "text": [
      "(123, 208, 208, 8)\n",
      "(123, 208, 208)\n"
     ]
    },
    {
     "data": {
      "text/plain": [
       "'/Users/tm8/tusharathawale/projects/research/multivariateGaussianClosedFormCrossingProb/3D/eigenvalue3.vti'"
      ]
     },
     "execution_count": 79,
     "metadata": {},
     "output_type": "execute_result"
    }
   ],
   "source": [
    "print(eigenmap.shape)\n",
    "eigenVal3 = np.squeeze(eigenmap[:,:,:,3])\n",
    "eigenVal3 = eigenVal3.astype(float)\n",
    "print(eigenVal3.shape)\n",
    "imageToVTK(\"./eigenvalue3\", pointData = {\"eigenvalue3\" : eigenVal3})"
   ]
  },
  {
   "cell_type": "code",
   "execution_count": 80,
   "metadata": {},
   "outputs": [
    {
     "name": "stdout",
     "output_type": "stream",
     "text": [
      "(123, 208, 208, 8)\n",
      "(123, 208, 208)\n"
     ]
    },
    {
     "data": {
      "text/plain": [
       "'/Users/tm8/tusharathawale/projects/research/multivariateGaussianClosedFormCrossingProb/3D/eigenvalue4.vti'"
      ]
     },
     "execution_count": 80,
     "metadata": {},
     "output_type": "execute_result"
    }
   ],
   "source": [
    "print(eigenmap.shape)\n",
    "eigenVal4 = np.squeeze(eigenmap[:,:,:,4])\n",
    "eigenVal4 = eigenVal4.astype(float)\n",
    "print(eigenVal4.shape)\n",
    "imageToVTK(\"./eigenvalue4\", pointData = {\"eigenvalue4\" : eigenVal4})"
   ]
  },
  {
   "cell_type": "code",
   "execution_count": 81,
   "metadata": {},
   "outputs": [
    {
     "name": "stdout",
     "output_type": "stream",
     "text": [
      "(123, 208, 208, 8)\n",
      "(123, 208, 208)\n"
     ]
    },
    {
     "data": {
      "text/plain": [
       "'/Users/tm8/tusharathawale/projects/research/multivariateGaussianClosedFormCrossingProb/3D/eigenvalue5.vti'"
      ]
     },
     "execution_count": 81,
     "metadata": {},
     "output_type": "execute_result"
    }
   ],
   "source": [
    "print(eigenmap.shape)\n",
    "eigenVal5 = np.squeeze(eigenmap[:,:,:,5])\n",
    "eigenVal5 = eigenVal5.astype(float)\n",
    "print(eigenVal5.shape)\n",
    "imageToVTK(\"./eigenvalue5\", pointData = {\"eigenvalue5\" : eigenVal5})"
   ]
  },
  {
   "cell_type": "code",
   "execution_count": 82,
   "metadata": {},
   "outputs": [
    {
     "name": "stdout",
     "output_type": "stream",
     "text": [
      "(123, 208, 208, 8)\n",
      "(123, 208, 208)\n"
     ]
    },
    {
     "data": {
      "text/plain": [
       "'/Users/tm8/tusharathawale/projects/research/multivariateGaussianClosedFormCrossingProb/3D/eigenvalue6.vti'"
      ]
     },
     "execution_count": 82,
     "metadata": {},
     "output_type": "execute_result"
    }
   ],
   "source": [
    "print(eigenmap.shape)\n",
    "eigenVal6 = np.squeeze(eigenmap[:,:,:,6])\n",
    "eigenVal6 = eigenVal6.astype(float)\n",
    "print(eigenVal6.shape)\n",
    "imageToVTK(\"./eigenvalue6\", pointData = {\"eigenvalue6\" : eigenVal6})"
   ]
  },
  {
   "cell_type": "code",
   "execution_count": 83,
   "metadata": {},
   "outputs": [
    {
     "name": "stdout",
     "output_type": "stream",
     "text": [
      "(123, 208, 208, 8)\n",
      "(123, 208, 208)\n"
     ]
    },
    {
     "data": {
      "text/plain": [
       "'/Users/tm8/tusharathawale/projects/research/multivariateGaussianClosedFormCrossingProb/3D/eigenvalue7.vti'"
      ]
     },
     "execution_count": 83,
     "metadata": {},
     "output_type": "execute_result"
    }
   ],
   "source": [
    "print(eigenmap.shape)\n",
    "eigenVal7 = np.squeeze(eigenmap[:,:,:,7])\n",
    "eigenVal7 = eigenVal7.astype(float)\n",
    "print(eigenVal7.shape)\n",
    "imageToVTK(\"./eigenvalue7\", pointData = {\"eigenvalue7\" : eigenVal7})"
   ]
  },
  {
   "cell_type": "code",
   "execution_count": 46,
   "metadata": {
    "scrolled": false
   },
   "outputs": [
    {
     "name": "stdout",
     "output_type": "stream",
     "text": [
      "error: 0.10200000000000009\n",
      "error: 0.10599999999999998\n",
      "error: 0.10000000000000003\n",
      "error: 0.10999999999999999\n",
      "error: 0.10799999999999998\n",
      "error: 0.11199999999999999\n",
      "error: 0.11199999999999993\n",
      "error: 0.10399999999999998\n",
      "error: 0.10200000000000004\n",
      "error: 0.11199999999999999\n",
      "error: 0.1060000000000001\n",
      "error: 0.10199999999999998\n",
      "error: 0.10199999999999998\n",
      "error: 0.10599999999999998\n",
      "error: 0.10599999999999998\n",
      "error: 0.10400000000000004\n",
      "error: 0.11599999999999999\n",
      "error: 0.10200000000000004\n",
      "error: 0.10799999999999998\n",
      "error: 0.12000000000000005\n",
      "error: 0.10200000000000004\n",
      "error: 0.10199999999999998\n",
      "error: 0.1100000000000001\n",
      "error: 0.10399999999999998\n",
      "error: 0.10000000000000003\n",
      "error: 0.12\n",
      "error: 0.10800000000000004\n",
      "error: 0.10999999999999999\n",
      "error: 0.128\n",
      "error: 0.11599999999999999\n",
      "error: 0.10599999999999998\n",
      "error: 0.10600000000000004\n",
      "error: 0.11200000000000004\n",
      "error: 0.10199999999999998\n",
      "error: 0.10399999999999998\n",
      "error: 0.12\n",
      "error: 0.10000000000000003\n",
      "error: 0.118\n",
      "error: 0.11199999999999999\n",
      "error: 0.1060000000000001\n",
      "error: 0.10799999999999998\n",
      "error: 0.11599999999999999\n",
      "error: 0.10200000000000004\n",
      "error: 0.10000000000000003\n",
      "error: 0.10000000000000009\n",
      "error: 0.10799999999999998\n",
      "error: 0.10399999999999998\n",
      "error: 0.10000000000000003\n",
      "error: 0.10400000000000009\n",
      "error: 0.12\n",
      "error: 0.126\n",
      "error: 0.10199999999999998\n",
      "error: 0.10000000000000003\n"
     ]
    }
   ],
   "source": [
    "#error = abs(crossingProbabilitiesPearson-crossingProbabilitiesMultivariate)\n",
    "error = abs(eigenCrossingProbabilitiesMultivariate-crossingProbabilitiesMultivariate)\n",
    "h,w,d = eigenCrossingProbabilitiesMultivariate.shape\n",
    "for i in range(h):\n",
    "    for j in range(w):\n",
    "        for k in range(d):\n",
    "            if (error[i,j,k] > 0.1):\n",
    "                print('error:',error[i,j,k])"
   ]
  },
  {
   "cell_type": "code",
   "execution_count": 47,
   "metadata": {},
   "outputs": [
    {
     "data": {
      "text/plain": [
       "'/Users/tm8/tusharathawale/projects/research/multivariateGaussianClosedFormCrossingProb/3D/diffEigenVsOriginalMultivariateGaussianCrossingProb.vti'"
      ]
     },
     "execution_count": 47,
     "metadata": {},
     "output_type": "execute_result"
    }
   ],
   "source": [
    "imageToVTK(\"./diffEigenVsOriginalMultivariateGaussianCrossingProb\", pointData = {\"diffEigenVsOriginalMultivariateGaussianCrossingProb\" : abs(eigenCrossingProbabilitiesMultivariate-crossingProbabilitiesMultivariate)})"
   ]
  },
  {
   "cell_type": "code",
   "execution_count": 38,
   "metadata": {},
   "outputs": [
    {
     "data": {
      "text/plain": [
       "'/Users/tm8/tusharathawale/projects/research/multivariateGaussianClosedFormCrossingProb/3D/diffPearsonVsOriginalMultivariateGaussianCrossingProb.vti'"
      ]
     },
     "execution_count": 38,
     "metadata": {},
     "output_type": "execute_result"
    }
   ],
   "source": [
    "imageToVTK(\"./diffPearsonVsOriginalMultivariateGaussianCrossingProb\", pointData = {\"diffPearsonVsOriginalMultivariateGaussianCrossingProb\" : abs(crossingProbabilitiesPearson-crossingProbabilitiesMultivariate)})"
   ]
  },
  {
   "cell_type": "code",
   "execution_count": 6,
   "metadata": {},
   "outputs": [],
   "source": [
    "isovalue = 900\n",
    "[positiveProbabilitiesGrid, negativeProbabilitiesGrid,  maximumGrid, minimumGrid, mostProbableGrid] = computePositiveNegativeProbabilities(ensemble, isovalue, 100, 'Gaussian')\n",
    "#plt.figure()\n",
    "#plt.imshow(positiveProbabilitiesGrid)\n",
    "#plt.contour(positiveProbabilitiesGrid, levels=[0.5])\n",
    "#MStopologyCasesProbabilities,entropy,numCases = computeMSTopologyCasesProbabilities(positiveProbabilitiesGrid, negativeProbabilitiesGrid)\n",
    "MStopologyCasesProbabilities,entropy,numCases = computeMSTopologyCasesProbabilities(positiveProbabilitiesGrid, negativeProbabilitiesGrid)"
   ]
  },
  {
   "cell_type": "code",
   "execution_count": null,
   "metadata": {},
   "outputs": [],
   "source": [
    "MStopologyCasesProbabilities,entropy,numCases = computeMSTopologyCasesProbabilities(positiveProbabilitiesGrid, negativeProbabilitiesGrid)\n",
    "\n"
   ]
  },
  {
   "cell_type": "code",
   "execution_count": 8,
   "metadata": {},
   "outputs": [
    {
     "data": {
      "text/plain": [
       "'/Users/tusharathawale/postdoc/marchingCubesTopologyUncertaintyVis/vis21/code/3D/numCases.vti'"
      ]
     },
     "execution_count": 8,
     "metadata": {},
     "output_type": "execute_result"
    }
   ],
   "source": [
    "imageToVTK(\"./mostProbableGrid\", pointData = {\"mostProbableGrid\" : mostProbableGrid})\n",
    "imageToVTK(\"./entropy\", pointData = {\"entropy\" : entropy})\n",
    "imageToVTK(\"./numCases\", pointData = {\"numCases\" : numCases})"
   ]
  },
  {
   "cell_type": "code",
   "execution_count": 12,
   "metadata": {},
   "outputs": [
    {
     "data": {
      "text/plain": [
       "'/Users/tusharathawale/postdoc/marchingCubesTopologyUncertaintyVis/vis21/code/3D/crossingProbabilities.vti'"
      ]
     },
     "execution_count": 12,
     "metadata": {},
     "output_type": "execute_result"
    }
   ],
   "source": [
    "crossingProbabilities = probabilisticMarchingSquares(positiveProbabilitiesGrid, negativeProbabilitiesGrid)\n",
    "imageToVTK(\"./crossingProbabilities\", pointData = {\"crossingProbabilities\" : crossingProbabilities})"
   ]
  },
  {
   "cell_type": "code",
   "execution_count": 33,
   "metadata": {},
   "outputs": [
    {
     "name": "stdout",
     "output_type": "stream",
     "text": [
      "(123, 208, 208)\n",
      "  C_CONTIGUOUS : True\n",
      "  F_CONTIGUOUS : False\n",
      "  OWNDATA : True\n",
      "  WRITEABLE : True\n",
      "  ALIGNED : True\n",
      "  WRITEBACKIFCOPY : False\n",
      "  UPDATEIFCOPY : False\n",
      "\n",
      "  C_CONTIGUOUS : True\n",
      "  F_CONTIGUOUS : False\n",
      "  OWNDATA : False\n",
      "  WRITEABLE : True\n",
      "  ALIGNED : True\n",
      "  WRITEBACKIFCOPY : False\n",
      "  UPDATEIFCOPY : False\n",
      "\n",
      "  C_CONTIGUOUS : True\n",
      "  F_CONTIGUOUS : False\n",
      "  OWNDATA : True\n",
      "  WRITEABLE : True\n",
      "  ALIGNED : True\n",
      "  WRITEBACKIFCOPY : False\n",
      "  UPDATEIFCOPY : False\n",
      "\n"
     ]
    },
    {
     "data": {
      "text/plain": [
       "'/Users/tusharathawale/postdoc/marchingCubesTopologyUncertaintyVis/vis21/code/3D/instance.vti'"
      ]
     },
     "execution_count": 33,
     "metadata": {},
     "output_type": "execute_result"
    }
   ],
   "source": [
    "# Test single instance for isovalue 900\n",
    "instance = np.zeros((123,208,208))\n",
    "for i in range(123):\n",
    "    for j in range(208):\n",
    "        for k in range(208):\n",
    "            instance[i,j,k] = ensemble[i,j,k,0]\n",
    "\n",
    "print(instance.shape)\n",
    "print(instance.flags)\n",
    "print(ground_truth.flags)\n",
    "print(ensemble.flags)\n",
    "imageToVTK(\"./instance\", pointData = {\"instance\" : instance})\n"
   ]
  },
  {
   "cell_type": "code",
   "execution_count": 11,
   "metadata": {},
   "outputs": [
    {
     "data": {
      "text/plain": [
       "'/Users/tusharathawale/postdoc/marchingCubesTopologyUncertaintyVis/vis21/code/3D/ground_truth.vti'"
      ]
     },
     "execution_count": 11,
     "metadata": {},
     "output_type": "execute_result"
    }
   ],
   "source": [
    "imageToVTK(\"./ground_truth\", pointData = {\"ground_truth\" : ground_truth})"
   ]
  },
  {
   "cell_type": "code",
   "execution_count": 56,
   "metadata": {},
   "outputs": [],
   "source": [
    "covMatrix = 1*np.identity(8)\n",
    "covMatrix[0,1] = 200\n",
    "covMatrix[1,0] = 200\n",
    "covMatrix[0,2] = 200\n",
    "covMatrix[2,0] = 200\n",
    "covMatrix[0,3] = 200\n",
    "covMatrix[3,0] = 200\n",
    "covMatrix[0,4] = 200\n",
    "covMatrix[4,0] = 200\n",
    "covMatrix[0,5] = 200\n",
    "covMatrix[5,0] = 200\n",
    "covMatrix[0,6] = 200\n",
    "covMatrix[6,0] = 200\n",
    "covMatrix[0,7] = 200\n",
    "covMatrix[7,0] = 200\n",
    "#covMatrix[1,3] = 200\n",
    "#covMatrix[3,1] = 200\n",
    "\n",
    "w, v = LA.eig(covMatrix)"
   ]
  },
  {
   "cell_type": "code",
   "execution_count": 57,
   "metadata": {},
   "outputs": [
    {
     "name": "stdout",
     "output_type": "stream",
     "text": [
      "[ 530.15026221 -528.15026221    1.            1.            1.\n",
      "    1.            1.            1.        ]\n"
     ]
    }
   ],
   "source": [
    "print(w)"
   ]
  },
  {
   "cell_type": "code",
   "execution_count": 293,
   "metadata": {},
   "outputs": [],
   "source": [
    "#Data\n",
    "\n",
    "#d1 = [1,5,1,1,1,1,1,1]\n",
    "#d2 = [2,10,2,2,2,2,2,2]\n",
    "#d3 = [0.5,2.5,0.5,0.5,0.5,0.5,0.5,0.5]\n",
    "#d4 = np.random.rand(1,8)[0]\n",
    "\n",
    "#d1 = 300*np.random.rand(1,8)[0]\n",
    "#d2 = 300*np.random.rand(1,8)[0]\n",
    "#d3 = 300*np.random.rand(1,8)[0]\n",
    "#d4 = 300*np.random.rand(1,8)[0]\n",
    "\n",
    "\n",
    "d1 = 100*np.random.rand(1,8)[0]\n",
    "d2 = 2*d1\n",
    "d3 = 0.5*d1\n",
    "d4 = 0.2*d1\n",
    "\n",
    "#d1 = [1,5,2,4,3,6,7,0]\n",
    "#d2 = [3,1,4,2,7,0,6,5]\n",
    "#d3 = [2,5,6,3,0,1,3,4]\n",
    "#d4 = [7,0,1,2,5,4,6,3]\n",
    "\n",
    "#d1 = [1,5,2,4,3,6,7,0]\n",
    "#d2 = [2, 10, 4,8,6,12,14,0]\n",
    "#d3 =[3,15,6,12,9,18,21,0]\n",
    "#d4 = [7,0,1,2,5,4,6,3]\n",
    "\n",
    "#mu, sigma = 0, 1 \n",
    "#d1 = np.random.normal(mu, sigma, (1,8))[0]\n",
    "#d2 = 2*d1\n",
    "#d3 = np.random.normal(mu, sigma, (1,8))[0]\n",
    "#d4 = np.random.normal(mu, sigma, (1,8))[0]\n",
    "\n",
    "#mu, sigma = 0, 1 \n",
    "#d1 = np.random.normal(mu, sigma, (1,8))[0]\n",
    "#d2 = np.random.normal(mu, sigma, (1,8))[0]\n",
    "#d3 = np.random.normal(mu, sigma, (1,8))[0]\n",
    "#d4 = np.random.normal(mu, sigma, (1,8))[0]\n",
    "\n",
    "observedData = np.array([d1,d2,d3,d4]) \n",
    "covMatrix = np.cov(observedData)"
   ]
  },
  {
   "cell_type": "code",
   "execution_count": 294,
   "metadata": {},
   "outputs": [
    {
     "name": "stdout",
     "output_type": "stream",
     "text": [
      "[0.00000000e+00 6.84603668e+03 3.15544362e-30 2.12825770e-14]\n"
     ]
    }
   ],
   "source": [
    "w, v = LA.eig(covMatrix)\n",
    "print(w)\n",
    "#print(v)"
   ]
  },
  {
   "cell_type": "code",
   "execution_count": 131,
   "metadata": {},
   "outputs": [
    {
     "name": "stdout",
     "output_type": "stream",
     "text": [
      "[0.09610035 0.68705435 0.32345864 0.40630435]\n"
     ]
    }
   ],
   "source": [
    "print(np.random.rand(1,4)[0])"
   ]
  },
  {
   "cell_type": "code",
   "execution_count": 295,
   "metadata": {},
   "outputs": [
    {
     "name": "stdout",
     "output_type": "stream",
     "text": [
      "0.8156\n"
     ]
    }
   ],
   "source": [
    "# Draw samples from multivariate normal\n",
    "#isovalue = 2\n",
    "isovalue = 50\n",
    "numSamples = 10000\n",
    "meanArray = [np.mean(d1), np.mean(d2), np.mean(d3), np.mean(d4)]\n",
    "samples = np.random.multivariate_normal(meanArray, covMatrix, numSamples)\n",
    "                                \n",
    "x1Samples = samples[:,0]\n",
    "x2Samples = samples[:,1]\n",
    "x3Samples = samples[:,2]\n",
    "x4Samples = samples[:,3]\n",
    "\n",
    "x1Samples = x1Samples.reshape(1, numSamples)\n",
    "x2Samples = x2Samples.reshape(1, numSamples)\n",
    "x3Samples = x3Samples.reshape(1, numSamples)\n",
    "x4Samples = x4Samples.reshape(1, numSamples)\n",
    "\n",
    "crossings = 0\n",
    "for l in range(numSamples):\n",
    "    minVal = min(x1Samples[0,l],x2Samples[0,l],x3Samples[0,l],x4Samples[0,l])\n",
    "    maxVal = max(x1Samples[0,l],x2Samples[0,l],x3Samples[0,l],x4Samples[0,l])\n",
    "    if (isovalue > minVal) and (isovalue < maxVal):\n",
    "        crossings = crossings + 1;\n",
    "        \n",
    "crossingProb = crossings/numSamples\n",
    "print(crossingProb)"
   ]
  },
  {
   "cell_type": "code",
   "execution_count": 296,
   "metadata": {},
   "outputs": [
    {
     "name": "stdout",
     "output_type": "stream",
     "text": [
      "0.9402186372533726\n"
     ]
    }
   ],
   "source": [
    "# Independent normal\n",
    "tempMean = [np.mean(d1), np.mean(d2), np.mean(d3), np.mean(d4)]\n",
    "tempStd = [np.std(d1), np.std(d2), np.std(d3), np.std(d4)]\n",
    "\n",
    "#print(tempMean[0])\n",
    "\n",
    "negativeProb1 = 0.5*(1 + math.erf((isovalue - tempMean[0])/(math.sqrt(2)*tempStd[0])))\n",
    "negativeProb2 = 0.5*(1 + math.erf((isovalue - tempMean[1])/(math.sqrt(2)*tempStd[1])))\n",
    "negativeProb3 = 0.5*(1 + math.erf((isovalue - tempMean[2])/(math.sqrt(2)*tempStd[2])))\n",
    "negativeProb4 = 0.5*(1 + math.erf((isovalue - tempMean[3])/(math.sqrt(2)*tempStd[3])))\n",
    "\n",
    "allNegativeProb = negativeProb1*negativeProb2*negativeProb3*negativeProb4\n",
    "\n",
    "positiveProb1 = 1.0 - negativeProb1\n",
    "positiveProb2 = 1.0 - negativeProb2\n",
    "positiveProb3 = 1.0 - negativeProb3\n",
    "positiveProb4 = 1.0 - negativeProb4\n",
    "\n",
    "allPositiveProb = positiveProb1*positiveProb2*positiveProb3*positiveProb4\n",
    "\n",
    "crossingProbIndependent = 1.0 - allNegativeProb - allPositiveProb\n",
    "\n",
    "print(crossingProbIndependent)"
   ]
  },
  {
   "cell_type": "code",
   "execution_count": null,
   "metadata": {},
   "outputs": [],
   "source": []
  },
  {
   "cell_type": "code",
   "execution_count": null,
   "metadata": {},
   "outputs": [],
   "source": []
  }
 ],
 "metadata": {
  "kernelspec": {
   "display_name": "marchingVubsesTopoUncertainty",
   "language": "python",
   "name": "marchingvubsestopouncertainty"
  },
  "language_info": {
   "codemirror_mode": {
    "name": "ipython",
    "version": 3
   },
   "file_extension": ".py",
   "mimetype": "text/x-python",
   "name": "python",
   "nbconvert_exporter": "python",
   "pygments_lexer": "ipython3",
   "version": "3.11.0"
  }
 },
 "nbformat": 4,
 "nbformat_minor": 2
}
